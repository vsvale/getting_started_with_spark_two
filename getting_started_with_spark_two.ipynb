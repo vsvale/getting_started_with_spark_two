{
 "cells": [
  {
   "cell_type": "markdown",
   "metadata": {},
   "source": [
    "### RDD to Dataframe"
   ]
  },
  {
   "cell_type": "code",
   "execution_count": 10,
   "metadata": {},
   "outputs": [],
   "source": [
    "from pyspark.sql import SparkSession\n",
    "from pyspark import SparkContext\n",
    "from pyspark.sql.functions import col"
   ]
  },
  {
   "cell_type": "code",
   "execution_count": 2,
   "metadata": {},
   "outputs": [
    {
     "name": "stderr",
     "output_type": "stream",
     "text": [
      "22/04/30 18:00:09 WARN Utils: Your hostname, PANZER resolves to a loopback address: 127.0.1.1; using 172.28.24.15 instead (on interface eth0)\n",
      "22/04/30 18:00:09 WARN Utils: Set SPARK_LOCAL_IP if you need to bind to another address\n",
      "WARNING: An illegal reflective access operation has occurred\n",
      "WARNING: Illegal reflective access by org.apache.spark.unsafe.Platform (file:/home/vale/.local/lib/python3.8/site-packages/pyspark/jars/spark-unsafe_2.12-3.2.1.jar) to constructor java.nio.DirectByteBuffer(long,int)\n",
      "WARNING: Please consider reporting this to the maintainers of org.apache.spark.unsafe.Platform\n",
      "WARNING: Use --illegal-access=warn to enable warnings of further illegal reflective access operations\n",
      "WARNING: All illegal access operations will be denied in a future release\n",
      "Using Spark's default log4j profile: org/apache/spark/log4j-defaults.properties\n",
      "Setting default log level to \"WARN\".\n",
      "To adjust logging level use sc.setLogLevel(newLevel). For SparkR, use setLogLevel(newLevel).\n",
      "22/04/30 18:00:10 WARN NativeCodeLoader: Unable to load native-hadoop library for your platform... using builtin-java classes where applicable\n"
     ]
    }
   ],
   "source": [
    "sc = SparkContext()\n",
    "spark = SparkSession.builder\\\n",
    "    .master('local[*]')\\\n",
    "    .getOrCreate()"
   ]
  },
  {
   "cell_type": "code",
   "execution_count": 3,
   "metadata": {},
   "outputs": [],
   "source": [
    "rdd = sc.parallelize([[1,'Alice',50,False],[2,'Bob',80,True]])"
   ]
  },
  {
   "cell_type": "code",
   "execution_count": 4,
   "metadata": {},
   "outputs": [],
   "source": [
    "df = rdd.toDF()"
   ]
  },
  {
   "cell_type": "code",
   "execution_count": 5,
   "metadata": {},
   "outputs": [
    {
     "name": "stdout",
     "output_type": "stream",
     "text": [
      "+---+-----+---+-----+\n",
      "| _1|   _2| _3|   _4|\n",
      "+---+-----+---+-----+\n",
      "|  1|Alice| 50|false|\n",
      "|  2|  Bob| 80| true|\n",
      "+---+-----+---+-----+\n",
      "\n"
     ]
    }
   ],
   "source": [
    "df.show()"
   ]
  },
  {
   "cell_type": "code",
   "execution_count": 6,
   "metadata": {},
   "outputs": [
    {
     "name": "stdout",
     "output_type": "stream",
     "text": [
      "root\n",
      " |-- _1: long (nullable = true)\n",
      " |-- _2: string (nullable = true)\n",
      " |-- _3: long (nullable = true)\n",
      " |-- _4: boolean (nullable = true)\n",
      "\n"
     ]
    }
   ],
   "source": [
    "df.printSchema()"
   ]
  },
  {
   "cell_type": "code",
   "execution_count": 7,
   "metadata": {},
   "outputs": [],
   "source": [
    "df = df.withColumnRenamed(\"_1\",\"id\").withColumnRenamed(\"_2\",\"name\").withColumnRenamed(\"_3\",\"score\").withColumnRenamed(\"_4\",\"pass\")"
   ]
  },
  {
   "cell_type": "code",
   "execution_count": 8,
   "metadata": {},
   "outputs": [
    {
     "name": "stdout",
     "output_type": "stream",
     "text": [
      "+---+-----+-----+-----+\n",
      "| id| name|score| pass|\n",
      "+---+-----+-----+-----+\n",
      "|  1|Alice|   50|false|\n",
      "|  2|  Bob|   80| true|\n",
      "+---+-----+-----+-----+\n",
      "\n"
     ]
    }
   ],
   "source": [
    "df.show()"
   ]
  },
  {
   "cell_type": "code",
   "execution_count": 11,
   "metadata": {},
   "outputs": [
    {
     "name": "stdout",
     "output_type": "stream",
     "text": [
      "+-----+-----+-----+\n",
      "| name|score| pass|\n",
      "+-----+-----+-----+\n",
      "|Alice|   50|false|\n",
      "+-----+-----+-----+\n",
      "\n"
     ]
    }
   ],
   "source": [
    "df.select('name','score','pass').filter(col('id')==1).show()"
   ]
  },
  {
   "cell_type": "code",
   "execution_count": 12,
   "metadata": {},
   "outputs": [
    {
     "name": "stdout",
     "output_type": "stream",
     "text": [
      "+---+-----+-----+-----+---+\n",
      "| id| name|score| pass|sum|\n",
      "+---+-----+-----+-----+---+\n",
      "|  1|Alice|   50|false| 51|\n",
      "|  2|  Bob|   80| true| 82|\n",
      "+---+-----+-----+-----+---+\n",
      "\n"
     ]
    }
   ],
   "source": [
    "df.withColumn('sum',col('id')+col('score')).show()"
   ]
  },
  {
   "cell_type": "code",
   "execution_count": 13,
   "metadata": {},
   "outputs": [
    {
     "name": "stdout",
     "output_type": "stream",
     "text": [
      "+---+-----+-----+-----+----------+\n",
      "| id| name|score| pass|false_pass|\n",
      "+---+-----+-----+-----+----------+\n",
      "|  1|Alice|   50|false|      true|\n",
      "|  2|  Bob|   80| true|     false|\n",
      "+---+-----+-----+-----+----------+\n",
      "\n"
     ]
    }
   ],
   "source": [
    "df.withColumn('false_pass',col('pass')==False).show()"
   ]
  },
  {
   "cell_type": "code",
   "execution_count": 14,
   "metadata": {},
   "outputs": [],
   "source": [
    "import pandas as pd"
   ]
  },
  {
   "cell_type": "code",
   "execution_count": 15,
   "metadata": {},
   "outputs": [
    {
     "data": {
      "text/html": [
       "<div>\n",
       "<style scoped>\n",
       "    .dataframe tbody tr th:only-of-type {\n",
       "        vertical-align: middle;\n",
       "    }\n",
       "\n",
       "    .dataframe tbody tr th {\n",
       "        vertical-align: top;\n",
       "    }\n",
       "\n",
       "    .dataframe thead th {\n",
       "        text-align: right;\n",
       "    }\n",
       "</style>\n",
       "<table border=\"1\" class=\"dataframe\">\n",
       "  <thead>\n",
       "    <tr style=\"text-align: right;\">\n",
       "      <th></th>\n",
       "      <th>id</th>\n",
       "      <th>name</th>\n",
       "      <th>score</th>\n",
       "      <th>pass</th>\n",
       "    </tr>\n",
       "  </thead>\n",
       "  <tbody>\n",
       "    <tr>\n",
       "      <th>0</th>\n",
       "      <td>1</td>\n",
       "      <td>Alice</td>\n",
       "      <td>50</td>\n",
       "      <td>False</td>\n",
       "    </tr>\n",
       "    <tr>\n",
       "      <th>1</th>\n",
       "      <td>2</td>\n",
       "      <td>Bob</td>\n",
       "      <td>80</td>\n",
       "      <td>True</td>\n",
       "    </tr>\n",
       "  </tbody>\n",
       "</table>\n",
       "</div>"
      ],
      "text/plain": [
       "   id   name  score   pass\n",
       "0   1  Alice     50  False\n",
       "1   2    Bob     80   True"
      ]
     },
     "execution_count": 15,
     "metadata": {},
     "output_type": "execute_result"
    }
   ],
   "source": [
    "df_pandas = df.toPandas() #single machine, not distributed\n",
    "df_pandas"
   ]
  },
  {
   "cell_type": "code",
   "execution_count": 16,
   "metadata": {},
   "outputs": [
    {
     "name": "stdout",
     "output_type": "stream",
     "text": [
      "+---+-----+-----+-----+\n",
      "| id| name|score| pass|\n",
      "+---+-----+-----+-----+\n",
      "|  1|Alice|   50|false|\n",
      "|  2|  Bob|   80| true|\n",
      "+---+-----+-----+-----+\n",
      "\n"
     ]
    }
   ],
   "source": [
    "df_spark = spark.createDataFrame(df_pandas).show()"
   ]
  },
  {
   "cell_type": "markdown",
   "metadata": {},
   "source": [
    "### London crime data"
   ]
  },
  {
   "cell_type": "code",
   "execution_count": 17,
   "metadata": {},
   "outputs": [],
   "source": [
    "from pyspark.sql import SparkSession\n",
    "import wget\n",
    "from pyspark.sql.functions import col,round, sum, min,max\n",
    "import matplotlib.pyplot as plt"
   ]
  },
  {
   "cell_type": "code",
   "execution_count": 18,
   "metadata": {},
   "outputs": [],
   "source": [
    "spark = SparkSession.builder\\\n",
    "    .master('local[*]')\\\n",
    "    .getOrCreate()"
   ]
  },
  {
   "cell_type": "code",
   "execution_count": null,
   "metadata": {},
   "outputs": [],
   "source": [
    "wget.download('https://archive.org/download/datasets_getting_started_with_spark_two/london_crime_by_lsoa.csv','.') #889.6 Mb"
   ]
  },
  {
   "cell_type": "code",
   "execution_count": 19,
   "metadata": {},
   "outputs": [
    {
     "name": "stderr",
     "output_type": "stream",
     "text": [
      "                                                                                \r"
     ]
    }
   ],
   "source": [
    "data = spark.read.csv('london_crime_by_lsoa.csv',header=True,sep=',',inferSchema=True)"
   ]
  },
  {
   "cell_type": "code",
   "execution_count": 20,
   "metadata": {},
   "outputs": [
    {
     "name": "stdout",
     "output_type": "stream",
     "text": [
      "+---------+----------+--------------------+--------------------+-----+----+-----+\n",
      "|lsoa_code|   borough|      major_category|      minor_category|value|year|month|\n",
      "+---------+----------+--------------------+--------------------+-----+----+-----+\n",
      "|E01001116|   Croydon|            Burglary|Burglary in Other...|    0|2016|   11|\n",
      "|E01001646| Greenwich|Violence Against ...|      Other violence|    0|2016|   11|\n",
      "|E01000677|   Bromley|Violence Against ...|      Other violence|    0|2015|    5|\n",
      "|E01003774| Redbridge|            Burglary|Burglary in Other...|    0|2016|    3|\n",
      "|E01004563|Wandsworth|             Robbery|   Personal Property|    0|2008|    6|\n",
      "+---------+----------+--------------------+--------------------+-----+----+-----+\n",
      "only showing top 5 rows\n",
      "\n"
     ]
    }
   ],
   "source": [
    "data.show(5)"
   ]
  },
  {
   "cell_type": "code",
   "execution_count": 21,
   "metadata": {},
   "outputs": [
    {
     "name": "stdout",
     "output_type": "stream",
     "text": [
      "root\n",
      " |-- lsoa_code: string (nullable = true)\n",
      " |-- borough: string (nullable = true)\n",
      " |-- major_category: string (nullable = true)\n",
      " |-- minor_category: string (nullable = true)\n",
      " |-- value: integer (nullable = true)\n",
      " |-- year: integer (nullable = true)\n",
      " |-- month: integer (nullable = true)\n",
      "\n"
     ]
    }
   ],
   "source": [
    "data.printSchema()"
   ]
  },
  {
   "cell_type": "code",
   "execution_count": 22,
   "metadata": {},
   "outputs": [
    {
     "name": "stderr",
     "output_type": "stream",
     "text": [
      "                                                                                \r"
     ]
    },
    {
     "data": {
      "text/plain": [
       "13490604"
      ]
     },
     "execution_count": 22,
     "metadata": {},
     "output_type": "execute_result"
    }
   ],
   "source": [
    "data.cache()\n",
    "data.count()"
   ]
  },
  {
   "cell_type": "code",
   "execution_count": 23,
   "metadata": {},
   "outputs": [
    {
     "data": {
      "text/plain": [
       "DataFrame[lsoa_code: string, borough: string, major_category: string, minor_category: string, value: int, year: int, month: int]"
      ]
     },
     "execution_count": 23,
     "metadata": {},
     "output_type": "execute_result"
    }
   ],
   "source": [
    "data.dropna()"
   ]
  },
  {
   "cell_type": "code",
   "execution_count": 24,
   "metadata": {},
   "outputs": [],
   "source": [
    "data = data.drop('lsoa_code')"
   ]
  },
  {
   "cell_type": "code",
   "execution_count": 25,
   "metadata": {},
   "outputs": [
    {
     "name": "stdout",
     "output_type": "stream",
     "text": [
      "+--------------------+\n",
      "|             borough|\n",
      "+--------------------+\n",
      "|             Croydon|\n",
      "|          Wandsworth|\n",
      "|              Bexley|\n",
      "|             Lambeth|\n",
      "|Barking and Dagenham|\n",
      "|              Camden|\n",
      "|           Greenwich|\n",
      "|              Newham|\n",
      "|       Tower Hamlets|\n",
      "|            Hounslow|\n",
      "|              Barnet|\n",
      "|              Harrow|\n",
      "|Kensington and Ch...|\n",
      "|           Islington|\n",
      "|               Brent|\n",
      "|            Haringey|\n",
      "|             Bromley|\n",
      "|              Merton|\n",
      "|         Westminster|\n",
      "|             Hackney|\n",
      "+--------------------+\n",
      "only showing top 20 rows\n",
      "\n"
     ]
    }
   ],
   "source": [
    "data.select(col('borough')).distinct().show()"
   ]
  },
  {
   "cell_type": "code",
   "execution_count": 26,
   "metadata": {},
   "outputs": [
    {
     "name": "stdout",
     "output_type": "stream",
     "text": [
      "+-------+--------------------+--------------------+-----+----+-----+\n",
      "|borough|      major_category|      minor_category|value|year|month|\n",
      "+-------+--------------------+--------------------+-----+----+-----+\n",
      "|Hackney|     Criminal Damage|Criminal Damage T...|    0|2011|    6|\n",
      "|Hackney|Violence Against ...|          Harassment|    1|2013|    2|\n",
      "|Hackney|     Criminal Damage|Other Criminal Da...|    0|2011|    7|\n",
      "|Hackney|Violence Against ...|        Wounding/GBH|    0|2013|   12|\n",
      "|Hackney|  Theft and Handling|  Other Theft Person|    0|2016|    8|\n",
      "|Hackney|            Burglary|Burglary in a Dwe...|    2|2008|    5|\n",
      "|Hackney|             Robbery|   Business Property|    0|2016|    7|\n",
      "|Hackney|  Theft and Handling|Theft/Taking of P...|    0|2009|   12|\n",
      "|Hackney|               Drugs|    Drug Trafficking|    0|2014|    4|\n",
      "|Hackney|  Theft and Handling|Handling Stolen G...|    0|2014|    6|\n",
      "|Hackney|            Burglary|Burglary in Other...|    0|2008|   12|\n",
      "|Hackney|Violence Against ...| Assault with Injury|    0|2010|    1|\n",
      "|Hackney|  Theft and Handling|  Other Theft Person|    0|2008|    8|\n",
      "|Hackney|Violence Against ...| Assault with Injury|    2|2015|    5|\n",
      "|Hackney|  Theft and Handling|Theft/Taking Of M...|    0|2009|   12|\n",
      "|Hackney|Violence Against ...|    Offensive Weapon|    0|2015|    9|\n",
      "|Hackney|Violence Against ...|          Harassment|    2|2008|   10|\n",
      "|Hackney|Violence Against ...|          Harassment|    0|2015|    3|\n",
      "|Hackney|  Theft and Handling|  Other Theft Person|    1|2009|    5|\n",
      "|Hackney|Other Notifiable ...|    Other Notifiable|    0|2008|    9|\n",
      "+-------+--------------------+--------------------+-----+----+-----+\n",
      "only showing top 20 rows\n",
      "\n"
     ]
    }
   ],
   "source": [
    "data.filter(col('borough')=='Hackney').show()"
   ]
  },
  {
   "cell_type": "code",
   "execution_count": 27,
   "metadata": {},
   "outputs": [
    {
     "name": "stdout",
     "output_type": "stream",
     "text": [
      "+--------------------+--------------------+--------------------+-----+----+-----+\n",
      "|             borough|      major_category|      minor_category|value|year|month|\n",
      "+--------------------+--------------------+--------------------+-----+----+-----+\n",
      "|             Croydon|            Burglary|Burglary in Other...|    0|2016|   11|\n",
      "|           Greenwich|Violence Against ...|      Other violence|    0|2016|   11|\n",
      "|             Bromley|Violence Against ...|      Other violence|    0|2015|    5|\n",
      "|           Redbridge|            Burglary|Burglary in Other...|    0|2016|    3|\n",
      "|              Sutton|  Theft and Handling|Theft/Taking of P...|    1|2016|    8|\n",
      "|             Lambeth|Violence Against ...|      Other violence|    0|2015|    4|\n",
      "|          Hillingdon|  Theft and Handling|Theft/Taking Of M...|    0|2016|    2|\n",
      "|Kingston upon Thames|  Theft and Handling|    Theft From Shops|    0|2016|   11|\n",
      "|            Haringey|Violence Against ...|        Wounding/GBH|    0|2015|   12|\n",
      "|            Lewisham|Violence Against ...|      Common Assault|    0|2016|    2|\n",
      "|            Hounslow|     Criminal Damage|Criminal Damage T...|    0|2015|    2|\n",
      "|             Bromley|     Criminal Damage|Criminal Damage T...|    1|2016|    4|\n",
      "|            Haringey|     Criminal Damage|Criminal Damage T...|    0|2016|   12|\n",
      "|           Southwark|               Drugs| Possession Of Drugs|    0|2015|    3|\n",
      "|            Havering|    Fraud or Forgery|  Counted per Victim|    0|2015|   11|\n",
      "|      Waltham Forest|Other Notifiable ...|      Going Equipped|    0|2015|    2|\n",
      "|              Ealing|             Robbery|   Personal Property|    0|2015|    7|\n",
      "|               Brent|  Theft and Handling|Motor Vehicle Int...|    0|2015|    9|\n",
      "|            Hounslow|Violence Against ...|        Wounding/GBH|    2|2015|    8|\n",
      "|           Southwark|  Theft and Handling|    Theft From Shops|    4|2016|    8|\n",
      "+--------------------+--------------------+--------------------+-----+----+-----+\n",
      "only showing top 20 rows\n",
      "\n"
     ]
    }
   ],
   "source": [
    "data.filter(col('year').isin('2015','2016')).show()"
   ]
  },
  {
   "cell_type": "code",
   "execution_count": 28,
   "metadata": {},
   "outputs": [
    {
     "name": "stdout",
     "output_type": "stream",
     "text": [
      "+--------------------+--------------------+--------------------+-----+----+-----+\n",
      "|             borough|      major_category|      minor_category|value|year|month|\n",
      "+--------------------+--------------------+--------------------+-----+----+-----+\n",
      "|           Redbridge|            Burglary|Burglary in Other...|    0|2016|    3|\n",
      "|          Wandsworth|             Robbery|   Personal Property|    0|2008|    6|\n",
      "|              Sutton|  Theft and Handling|Theft/Taking of P...|    1|2016|    8|\n",
      "|Kingston upon Thames|  Theft and Handling|    Theft From Shops|    0|2016|   11|\n",
      "|              Sutton|               Drugs| Possession Of Drugs|    0|2009|   10|\n",
      "|            Hounslow|     Criminal Damage|Criminal Damage T...|    0|2015|    2|\n",
      "|           Southwark|               Drugs| Possession Of Drugs|    0|2015|    3|\n",
      "|           Southwark|  Theft and Handling|    Theft From Shops|    4|2016|    8|\n",
      "|             Lambeth|Violence Against ...| Assault with Injury|    2|2008|    5|\n",
      "|           Islington|               Drugs|    Drug Trafficking|    0|2012|   11|\n",
      "|               Brent|    Fraud or Forgery|  Counted per Victim|    0|2009|   10|\n",
      "|           Redbridge|  Theft and Handling|  Other Theft Person|    0|2008|    3|\n",
      "|              Barnet|             Robbery|   Business Property|    0|2013|    6|\n",
      "|            Hounslow|Violence Against ...|    Offensive Weapon|    1|2015|   10|\n",
      "|      Waltham Forest|Violence Against ...| Assault with Injury|    1|2011|   11|\n",
      "|             Lambeth|  Theft and Handling|         Other Theft|    0|2010|    4|\n",
      "|Barking and Dagenham|Violence Against ...|          Harassment|    0|2012|   12|\n",
      "|           Islington|     Sexual Offences|        Other Sexual|    0|2016|   10|\n",
      "|         Westminster|  Theft and Handling|  Other Theft Person|    0|2015|   10|\n",
      "|Kensington and Ch...|Other Notifiable ...|    Other Notifiable|    0|2016|   10|\n",
      "+--------------------+--------------------+--------------------+-----+----+-----+\n",
      "only showing top 20 rows\n",
      "\n"
     ]
    }
   ],
   "source": [
    "data.sample(fraction=0.1).show()"
   ]
  },
  {
   "cell_type": "code",
   "execution_count": 29,
   "metadata": {},
   "outputs": [
    {
     "name": "stdout",
     "output_type": "stream",
     "text": [
      "+--------------------+--------------------+--------------------+-----+----+-----+\n",
      "|             borough|      major_category|      minor_category|value|year|month|\n",
      "+--------------------+--------------------+--------------------+-----+----+-----+\n",
      "|             Croydon|            Burglary|Burglary in Other...|    0|2016|   11|\n",
      "|           Greenwich|Violence Against ...|      Other violence|    0|2016|   11|\n",
      "|             Bromley|Violence Against ...|      Other violence|    0|2015|    5|\n",
      "|           Redbridge|            Burglary|Burglary in Other...|    0|2016|    3|\n",
      "|              Sutton|  Theft and Handling|Theft/Taking of P...|    1|2016|    8|\n",
      "|             Lambeth|Violence Against ...|      Other violence|    0|2015|    4|\n",
      "|Richmond upon Thames|             Robbery|   Personal Property|    0|2014|    1|\n",
      "|          Hillingdon|  Theft and Handling|Theft/Taking Of M...|    0|2016|    2|\n",
      "|Kingston upon Thames|  Theft and Handling|    Theft From Shops|    0|2016|   11|\n",
      "|            Haringey|Violence Against ...|        Wounding/GBH|    0|2015|   12|\n",
      "|            Lewisham|Violence Against ...|      Common Assault|    0|2016|    2|\n",
      "|            Hounslow|     Criminal Damage|Criminal Damage T...|    0|2015|    2|\n",
      "|             Bromley|     Criminal Damage|Criminal Damage T...|    1|2016|    4|\n",
      "|            Haringey|     Criminal Damage|Criminal Damage T...|    0|2016|   12|\n",
      "|           Southwark|               Drugs| Possession Of Drugs|    0|2015|    3|\n",
      "|            Havering|    Fraud or Forgery|  Counted per Victim|    0|2015|   11|\n",
      "|             Croydon|  Theft and Handling|         Other Theft|    1|2014|    5|\n",
      "|              Barnet|  Theft and Handling|Theft/Taking Of M...|    0|2014|    3|\n",
      "|      Waltham Forest|Other Notifiable ...|      Going Equipped|    0|2015|    2|\n",
      "|              Ealing|             Robbery|   Personal Property|    0|2015|    7|\n",
      "+--------------------+--------------------+--------------------+-----+----+-----+\n",
      "only showing top 20 rows\n",
      "\n"
     ]
    }
   ],
   "source": [
    "data.filter(col('year') >= 2014).show()"
   ]
  },
  {
   "cell_type": "code",
   "execution_count": 30,
   "metadata": {},
   "outputs": [
    {
     "name": "stdout",
     "output_type": "stream",
     "text": [
      "+--------------------+------+\n",
      "|             borough| count|\n",
      "+--------------------+------+\n",
      "|             Croydon|602100|\n",
      "|          Wandsworth|498636|\n",
      "|              Bexley|385668|\n",
      "|             Lambeth|519048|\n",
      "|Barking and Dagenham|311040|\n",
      "|              Camden|378432|\n",
      "|           Greenwich|421200|\n",
      "|              Newham|471420|\n",
      "|       Tower Hamlets|412128|\n",
      "|            Hounslow|395928|\n",
      "|              Barnet|572832|\n",
      "|              Harrow|365688|\n",
      "|Kensington and Ch...|296784|\n",
      "|           Islington|359208|\n",
      "|               Brent|490644|\n",
      "|            Haringey|413856|\n",
      "|             Bromley|523908|\n",
      "|              Merton|339876|\n",
      "|         Westminster|366660|\n",
      "|             Hackney|417744|\n",
      "+--------------------+------+\n",
      "only showing top 20 rows\n",
      "\n"
     ]
    }
   ],
   "source": [
    "data.groupBy('borough').count().show()"
   ]
  },
  {
   "cell_type": "code",
   "execution_count": 31,
   "metadata": {},
   "outputs": [
    {
     "name": "stdout",
     "output_type": "stream",
     "text": [
      "+--------------------+----------+\n",
      "|             borough|sum(value)|\n",
      "+--------------------+----------+\n",
      "|             Croydon|    260294|\n",
      "|          Wandsworth|    204741|\n",
      "|              Bexley|    114136|\n",
      "|             Lambeth|    292178|\n",
      "|Barking and Dagenham|    149447|\n",
      "|              Camden|    275147|\n",
      "|           Greenwich|    181568|\n",
      "|              Newham|    262024|\n",
      "|       Tower Hamlets|    228613|\n",
      "|            Hounslow|    186772|\n",
      "|              Barnet|    212191|\n",
      "|              Harrow|    116848|\n",
      "|Kensington and Ch...|    171981|\n",
      "|           Islington|    230286|\n",
      "|               Brent|    227551|\n",
      "|            Haringey|    213272|\n",
      "|             Bromley|    184349|\n",
      "|              Merton|    115654|\n",
      "|         Westminster|    455028|\n",
      "|             Hackney|    217119|\n",
      "+--------------------+----------+\n",
      "only showing top 20 rows\n",
      "\n"
     ]
    }
   ],
   "source": [
    "data.groupBy('borough').agg({'value':'sum'}).show()"
   ]
  },
  {
   "cell_type": "code",
   "execution_count": 32,
   "metadata": {},
   "outputs": [],
   "source": [
    "borough_conviction_sum = data.groupBy('borough').agg({'value':'sum'}).withColumnRenamed('sum(value)','convictions')"
   ]
  },
  {
   "cell_type": "code",
   "execution_count": 33,
   "metadata": {},
   "outputs": [
    {
     "name": "stdout",
     "output_type": "stream",
     "text": [
      "+----------+\n",
      "|sum(value)|\n",
      "+----------+\n",
      "|   6447758|\n",
      "+----------+\n",
      "\n"
     ]
    }
   ],
   "source": [
    "data.groupBy().sum('value').show()"
   ]
  },
  {
   "cell_type": "code",
   "execution_count": 34,
   "metadata": {},
   "outputs": [
    {
     "name": "stdout",
     "output_type": "stream",
     "text": [
      "+----------+\n",
      "|sum(value)|\n",
      "+----------+\n",
      "|   6447758|\n",
      "+----------+\n",
      "\n"
     ]
    }
   ],
   "source": [
    "data.agg({'value':'sum'}).show()"
   ]
  },
  {
   "cell_type": "code",
   "execution_count": 35,
   "metadata": {},
   "outputs": [
    {
     "data": {
      "text/plain": [
       "6447758"
      ]
     },
     "execution_count": 35,
     "metadata": {},
     "output_type": "execute_result"
    }
   ],
   "source": [
    "total_convictions = data.agg({'value':'sum'}).collect()[0][0]\n",
    "total_convictions"
   ]
  },
  {
   "cell_type": "code",
   "execution_count": 36,
   "metadata": {},
   "outputs": [
    {
     "name": "stdout",
     "output_type": "stream",
     "text": [
      "+--------------------+-----------+------------+\n",
      "|             borough|convictions|perc_contrib|\n",
      "+--------------------+-----------+------------+\n",
      "|         Westminster|     455028|        7.06|\n",
      "|             Lambeth|     292178|        4.53|\n",
      "|           Southwark|     278809|        4.32|\n",
      "|              Camden|     275147|        4.27|\n",
      "|              Newham|     262024|        4.06|\n",
      "|             Croydon|     260294|        4.04|\n",
      "|              Ealing|     251562|         3.9|\n",
      "|           Islington|     230286|        3.57|\n",
      "|       Tower Hamlets|     228613|        3.55|\n",
      "|               Brent|     227551|        3.53|\n",
      "|             Hackney|     217119|        3.37|\n",
      "|            Lewisham|     215137|        3.34|\n",
      "|            Haringey|     213272|        3.31|\n",
      "|              Barnet|     212191|        3.29|\n",
      "|          Hillingdon|     209680|        3.25|\n",
      "|          Wandsworth|     204741|        3.18|\n",
      "|      Waltham Forest|     203879|        3.16|\n",
      "|             Enfield|     193880|        3.01|\n",
      "|            Hounslow|     186772|         2.9|\n",
      "|Hammersmith and F...|     185259|        2.87|\n",
      "+--------------------+-----------+------------+\n",
      "only showing top 20 rows\n",
      "\n"
     ]
    }
   ],
   "source": [
    "percentage = borough_conviction_sum.withColumn('perc_contrib',round(borough_conviction_sum.convictions / total_convictions * 100,2))\n",
    "percentage.orderBy(col('perc_contrib').desc()).show()"
   ]
  },
  {
   "cell_type": "code",
   "execution_count": 37,
   "metadata": {},
   "outputs": [],
   "source": [
    "month_convictions = (data.filter(col('year') == 2014)\n",
    ".groupBy(col('month'))\n",
    ".agg(sum(col('value')).alias('convictions'))\n",
    ")"
   ]
  },
  {
   "cell_type": "code",
   "execution_count": 38,
   "metadata": {},
   "outputs": [
    {
     "name": "stderr",
     "output_type": "stream",
     "text": [
      "                                                                                \r"
     ]
    },
    {
     "data": {
      "text/plain": [
       "680183"
      ]
     },
     "execution_count": 38,
     "metadata": {},
     "output_type": "execute_result"
    }
   ],
   "source": [
    "total_month = (month_convictions.agg(sum(col('convictions'))).collect()[0][0]\n",
    ")\n",
    "total_month"
   ]
  },
  {
   "cell_type": "code",
   "execution_count": 39,
   "metadata": {},
   "outputs": [
    {
     "name": "stdout",
     "output_type": "stream",
     "text": [
      "+-----+-----------+-------+\n",
      "|month|convictions|percent|\n",
      "+-----+-----------+-------+\n",
      "|   10|      60537|    8.9|\n",
      "|   11|      59704|   8.78|\n",
      "|    7|      58564|   8.61|\n",
      "|    3|      57669|   8.48|\n",
      "|   12|      57565|   8.46|\n",
      "|    6|      57039|   8.39|\n",
      "|    9|      56933|   8.37|\n",
      "|    5|      56327|   8.28|\n",
      "|    8|      55641|   8.18|\n",
      "|    1|      55515|   8.16|\n",
      "|    4|      53467|   7.86|\n",
      "|    2|      51222|   7.53|\n",
      "+-----+-----------+-------+\n",
      "\n"
     ]
    }
   ],
   "source": [
    "month_convictions = (month_convictions.withColumn('percent',round(col('convictions')/total_month * 100,2))\n",
    ")\n",
    "\n",
    "month_convictions.orderBy(col('percent').desc()).show()"
   ]
  },
  {
   "cell_type": "code",
   "execution_count": 40,
   "metadata": {},
   "outputs": [
    {
     "name": "stdout",
     "output_type": "stream",
     "text": [
      "+--------------------+-----------+\n",
      "|      major_category|convictions|\n",
      "+--------------------+-----------+\n",
      "|  Theft and Handling|    2661861|\n",
      "|Violence Against ...|    1558081|\n",
      "|            Burglary|     754293|\n",
      "|     Criminal Damage|     630938|\n",
      "|               Drugs|     470765|\n",
      "|             Robbery|     258873|\n",
      "|Other Notifiable ...|     106349|\n",
      "|    Fraud or Forgery|       5325|\n",
      "|     Sexual Offences|       1273|\n",
      "+--------------------+-----------+\n",
      "\n"
     ]
    }
   ],
   "source": [
    "crimes = (\n",
    "    data.groupBy('major_category')\n",
    "    .agg(sum(col('value')).alias('convictions'))\n",
    ")\n",
    "crimes.orderBy(col('convictions').desc()).show()"
   ]
  },
  {
   "cell_type": "code",
   "execution_count": 41,
   "metadata": {},
   "outputs": [
    {
     "name": "stdout",
     "output_type": "stream",
     "text": [
      "+---------+\n",
      "|min(year)|\n",
      "+---------+\n",
      "|     2008|\n",
      "+---------+\n",
      "\n"
     ]
    }
   ],
   "source": [
    "data.agg(min(col('year'))).show()\n"
   ]
  },
  {
   "cell_type": "code",
   "execution_count": 42,
   "metadata": {},
   "outputs": [
    {
     "name": "stdout",
     "output_type": "stream",
     "text": [
      "+---------+\n",
      "|max(year)|\n",
      "+---------+\n",
      "|     2016|\n",
      "+---------+\n",
      "\n"
     ]
    }
   ],
   "source": [
    "data.agg(max(col('year'))).show()"
   ]
  },
  {
   "cell_type": "code",
   "execution_count": 43,
   "metadata": {},
   "outputs": [
    {
     "name": "stderr",
     "output_type": "stream",
     "text": [
      "[Stage 71:==============>                                         (6 + 18) / 24]\r"
     ]
    },
    {
     "name": "stdout",
     "output_type": "stream",
     "text": [
      "+-------+--------------------+--------------------+-------------------+------------------+------------------+-----------------+\n",
      "|summary|             borough|      major_category|     minor_category|             value|              year|            month|\n",
      "+-------+--------------------+--------------------+-------------------+------------------+------------------+-----------------+\n",
      "|  count|            13490604|            13490604|           13490604|          13490604|          13490604|         13490604|\n",
      "|   mean|                null|                null|               null|0.4779443529733732|            2012.0|              6.5|\n",
      "| stddev|                null|                null|               null|1.7715128643050109|2.5819889931674265|3.452052657477519|\n",
      "|    min|Barking and Dagenham|            Burglary|Assault with Injury|                 0|              2008|                1|\n",
      "|    max|         Westminster|Violence Against ...|       Wounding/GBH|               309|              2016|               12|\n",
      "+-------+--------------------+--------------------+-------------------+------------------+------------------+-----------------+\n",
      "\n"
     ]
    },
    {
     "name": "stderr",
     "output_type": "stream",
     "text": [
      "                                                                                \r"
     ]
    }
   ],
   "source": [
    "data.describe().show()"
   ]
  },
  {
   "cell_type": "code",
   "execution_count": 44,
   "metadata": {},
   "outputs": [
    {
     "name": "stderr",
     "output_type": "stream",
     "text": [
      "                                                                                \r"
     ]
    },
    {
     "name": "stdout",
     "output_type": "stream",
     "text": [
      "+----------------------+--------+---------------+-----+----------------+-------------------------+-------+---------------+------------------+---------------------------+\n",
      "|borough_major_category|Burglary|Criminal Damage|Drugs|Fraud or Forgery|Other Notifiable Offences|Robbery|Sexual Offences|Theft and Handling|Violence Against the Person|\n",
      "+----------------------+--------+---------------+-----+----------------+-------------------------+-------+---------------+------------------+---------------------------+\n",
      "|              Havering|   32400|          64152|32616|            5508|                    21060|  27648|           1944|            118800|                      95472|\n",
      "|                Merton|   26784|          52920|29160|            5724|                    19440|  23652|           2592|            101196|                      78408|\n",
      "|              Haringey|   31320|          62424|35424|           10368|                    23760|  29484|           3780|            120420|                      96876|\n",
      "|         Tower Hamlets|   31104|          62100|37368|            5400|                    25812|  28512|           4212|            121284|                      96336|\n",
      "|               Bromley|   42552|          84456|42336|            8532|                    28296|  34668|           2592|            156492|                     123984|\n",
      "|               Enfield|   39528|          77760|44064|            9720|                    29484|  35532|           3780|            150444|                     120852|\n",
      "|  Kingston upon Thames|   21168|          42120|22140|            3780|                    14580|  15660|           1836|             77328|                      60912|\n",
      "|           Westminster|   27648|          55188|32616|            8748|                    21924|  25056|           3672|            107136|                      84672|\n",
      "|  Richmond upon Thames|   24840|          49572|23004|            2808|                    17712|  18468|           2376|             93204|                      72144|\n",
      "|              Lewisham|   36504|          72684|43740|           11016|                    27324|  34884|           4752|            140400|                     113832|\n",
      "|                 Brent|   37368|          73440|46980|            9288|                    28728|  34128|           3564|            141156|                     115992|\n",
      "|  Barking and Dagenham|   23760|          46764|26244|            7236|                    17496|  22248|           2808|             91260|                      73224|\n",
      "|             Redbridge|   34776|          68796|36504|            8532|                    24840|  32400|           2808|            131760|                     105300|\n",
      "|             Islington|   26568|          53028|34128|            5184|                    23004|  26244|           4104|            103788|                      83160|\n",
      "|               Hackney|   31104|          61884|38772|            7560|                    27324|  29160|           4212|            120420|                      97308|\n",
      "|                Newham|   35424|          70416|41580|           10692|                    26136|  34452|           3888|            137592|                     111240|\n",
      "|        City of London|     540|           1188|  756|               0|                      432|    540|              0|              3564|                       2700|\n",
      "|                Sutton|   26136|          51408|26784|            3024|                    17712|  21060|           1836|             96768|                      77760|\n",
      "|             Southwark|   35856|          71496|45144|           11772|                    28620|  35316|           3996|            139320|                     111780|\n",
      "|                Harrow|   29592|          57996|31212|            4752|                    20196|  23976|           2592|            107892|                      87480|\n",
      "+----------------------+--------+---------------+-----+----------------+-------------------------+-------+---------------+------------------+---------------------------+\n",
      "only showing top 20 rows\n",
      "\n"
     ]
    }
   ],
   "source": [
    "data.crosstab('borough','major_category').show()"
   ]
  },
  {
   "cell_type": "code",
   "execution_count": 45,
   "metadata": {},
   "outputs": [
    {
     "name": "stdout",
     "output_type": "stream",
     "text": [
      "+--------------+-----------+\n",
      "|       borough|convictions|\n",
      "+--------------+-----------+\n",
      "|   Westminster|      47564|\n",
      "|       Lambeth|      31765|\n",
      "|     Southwark|      28912|\n",
      "|        Newham|      28005|\n",
      "|       Croydon|      27357|\n",
      "|        Camden|      27198|\n",
      "| Tower Hamlets|      25504|\n",
      "|        Ealing|      24978|\n",
      "|       Hackney|      24893|\n",
      "|     Islington|      24679|\n",
      "|         Brent|      24426|\n",
      "|    Hillingdon|      23128|\n",
      "|      Haringey|      22773|\n",
      "|        Barnet|      22572|\n",
      "|       Enfield|      21700|\n",
      "|    Wandsworth|      21364|\n",
      "|      Lewisham|      21101|\n",
      "|Waltham Forest|      20271|\n",
      "|      Hounslow|      20005|\n",
      "|     Greenwich|      19894|\n",
      "+--------------+-----------+\n",
      "only showing top 20 rows\n",
      "\n"
     ]
    }
   ],
   "source": [
    "year = 2014\n",
    "yearly_details = (data.filter(col('year')==year)\n",
    "                        .groupBy('borough')\n",
    "                        .agg(sum('value').alias('convictions')).orderBy(col('convictions').desc())\n",
    ")\n",
    "\n",
    "yearly_details.show()"
   ]
  },
  {
   "cell_type": "code",
   "execution_count": 46,
   "metadata": {},
   "outputs": [],
   "source": [
    "borough_list = [row['borough'] for row in yearly_details.collect()]\n",
    "convictions_list = [row['convictions'] for row in yearly_details.collect()]\n"
   ]
  },
  {
   "cell_type": "code",
   "execution_count": 47,
   "metadata": {},
   "outputs": [
    {
     "data": {
      "image/png": "[encoded data removed]",
      "text/plain": [
       "<Figure size 2376x720 with 1 Axes>"
      ]
     },
     "metadata": {},
     "output_type": "display_data"
    }
   ],
   "source": [
    "    plt.style.use('ggplot')\n",
    "    plt.figure(figsize=(33, 10)) \n",
    "    plt.bar(borough_list, convictions_list)\n",
    "    \n",
    "    plt.title('Crime for the year: ' + str(year), fontsize=30)\n",
    "    plt.xlabel('Boroughs',fontsize=30)\n",
    "    plt.ylabel('Convictions', fontsize=30)\n",
    "\n",
    "    plt.xticks(rotation=90, fontsize=30)\n",
    "    plt.yticks(fontsize=30)\n",
    "    plt.autoscale()\n",
    "    plt.show()"
   ]
  },
  {
   "cell_type": "markdown",
   "metadata": {},
   "source": [
    "### Soccer Players"
   ]
  },
  {
   "cell_type": "code",
   "execution_count": 48,
   "metadata": {},
   "outputs": [],
   "source": [
    "from pyspark.sql import SparkSession\n",
    "from pyspark.sql.functions import year, col, avg, broadcast\n",
    "import wget"
   ]
  },
  {
   "cell_type": "code",
   "execution_count": 49,
   "metadata": {},
   "outputs": [],
   "source": [
    "spark = SparkSession.builder\\\n",
    "    .master('local[*]')\\\n",
    "    .getOrCreate()"
   ]
  },
  {
   "cell_type": "code",
   "execution_count": null,
   "metadata": {},
   "outputs": [],
   "source": [
    "wget.download('https://archive.org/download/datasets_getting_started_with_spark_two/player.csv','.') #688.3 Kb"
   ]
  },
  {
   "cell_type": "code",
   "execution_count": 50,
   "metadata": {},
   "outputs": [],
   "source": [
    "players = spark.read.csv('player.csv',inferSchema=True,header=True)"
   ]
  },
  {
   "cell_type": "code",
   "execution_count": 51,
   "metadata": {},
   "outputs": [
    {
     "name": "stdout",
     "output_type": "stream",
     "text": [
      "+---+-------------+------------------+------------------+-------------------+------+------+\n",
      "| id|player_api_id|       player_name|player_fifa_api_id|           birthday|height|weight|\n",
      "+---+-------------+------------------+------------------+-------------------+------+------+\n",
      "|  1|       505942|Aaron Appindangoye|            218353|1992-02-29 00:00:00|182.88|   187|\n",
      "|  2|       155782|   Aaron Cresswell|            189615|1989-12-15 00:00:00|170.18|   146|\n",
      "|  3|       162549|       Aaron Doran|            186170|1991-05-13 00:00:00|170.18|   163|\n",
      "|  4|        30572|     Aaron Galindo|            140161|1982-05-08 00:00:00|182.88|   198|\n",
      "|  5|        23780|      Aaron Hughes|             17725|1979-11-08 00:00:00|182.88|   154|\n",
      "+---+-------------+------------------+------------------+-------------------+------+------+\n",
      "only showing top 5 rows\n",
      "\n"
     ]
    }
   ],
   "source": [
    "players.show(5)"
   ]
  },
  {
   "cell_type": "code",
   "execution_count": 52,
   "metadata": {},
   "outputs": [
    {
     "name": "stdout",
     "output_type": "stream",
     "text": [
      "root\n",
      " |-- id: integer (nullable = true)\n",
      " |-- player_api_id: integer (nullable = true)\n",
      " |-- player_name: string (nullable = true)\n",
      " |-- player_fifa_api_id: integer (nullable = true)\n",
      " |-- birthday: string (nullable = true)\n",
      " |-- height: double (nullable = true)\n",
      " |-- weight: integer (nullable = true)\n",
      "\n"
     ]
    }
   ],
   "source": [
    "players.printSchema()"
   ]
  },
  {
   "cell_type": "code",
   "execution_count": 53,
   "metadata": {},
   "outputs": [
    {
     "name": "stdout",
     "output_type": "stream",
     "text": [
      "+-------+-----------------+------------------+--------------------+------------------+-------------------+------------------+------------------+\n",
      "|summary|               id|     player_api_id|         player_name|player_fifa_api_id|           birthday|            height|            weight|\n",
      "+-------+-----------------+------------------+--------------------+------------------+-------------------+------------------+------------------+\n",
      "|  count|            11060|             11060|               11060|             11060|              11060|             11060|             11060|\n",
      "|   mean|5537.511392405063|156582.42721518988|                null|165664.91048824592|               null|181.86744484628662|168.38028933092224|\n",
      "| stddev|3197.692646865559|160713.70062373235|                null| 58649.92836028494|               null| 6.369200906779242|14.990217454102865|\n",
      "|    min|                1|              2625|  Aaron Appindangoye|                 2|1967-01-23 00:00:00|            157.48|               117|\n",
      "|    max|            11075|            750584|dos Santos Fabio ...|            234141|1999-04-24 00:00:00|            208.28|               243|\n",
      "+-------+-----------------+------------------+--------------------+------------------+-------------------+------------------+------------------+\n",
      "\n"
     ]
    }
   ],
   "source": [
    "players.describe().show()"
   ]
  },
  {
   "cell_type": "code",
   "execution_count": 55,
   "metadata": {},
   "outputs": [
    {
     "data": {
      "text/plain": [
       "'./player_attributes (1).csv'"
      ]
     },
     "execution_count": 55,
     "metadata": {},
     "output_type": "execute_result"
    }
   ],
   "source": [
    "wget.download('https://archive.org/download/datasets_getting_started_with_spark_two/player_attributes.csv','.') #28.2 Mb"
   ]
  },
  {
   "cell_type": "code",
   "execution_count": 56,
   "metadata": {},
   "outputs": [],
   "source": [
    "player_att = spark.read.csv('player_attributes.csv',inferSchema=True, header=True)"
   ]
  },
  {
   "cell_type": "code",
   "execution_count": 57,
   "metadata": {},
   "outputs": [
    {
     "name": "stderr",
     "output_type": "stream",
     "text": [
      "WARNING:root:'PYARROW_IGNORE_TIMEZONE' environment variable was not set. It is required to set this environment variable to '1' in both driver and executor sides if you use pyarrow>=2.0.0. pandas-on-Spark will set it for you but it does not work if there is a Spark context already launched.\n",
      "22/04/30 18:05:52 WARN WindowExec: No Partition Defined for Window operation! Moving all data to a single partition, this can cause serious performance degradation.\n",
      "22/04/30 18:05:52 WARN WindowExec: No Partition Defined for Window operation! Moving all data to a single partition, this can cause serious performance degradation.\n",
      "22/04/30 18:05:52 WARN package: Truncated the string representation of a plan since it was too large. This behavior can be adjusted by setting 'spark.sql.debug.maxToStringFields'.\n"
     ]
    },
    {
     "data": {
      "text/html": [
       "<div>\n",
       "<style scoped>\n",
       "    .dataframe tbody tr th:only-of-type {\n",
       "        vertical-align: middle;\n",
       "    }\n",
       "\n",
       "    .dataframe tbody tr th {\n",
       "        vertical-align: top;\n",
       "    }\n",
       "\n",
       "    .dataframe thead th {\n",
       "        text-align: right;\n",
       "    }\n",
       "</style>\n",
       "<table border=\"1\" class=\"dataframe\">\n",
       "  <thead>\n",
       "    <tr style=\"text-align: right;\">\n",
       "      <th></th>\n",
       "      <th>id</th>\n",
       "      <th>player_fifa_api_id</th>\n",
       "      <th>player_api_id</th>\n",
       "      <th>date</th>\n",
       "      <th>overall_rating</th>\n",
       "      <th>potential</th>\n",
       "      <th>preferred_foot</th>\n",
       "      <th>attacking_work_rate</th>\n",
       "      <th>defensive_work_rate</th>\n",
       "      <th>crossing</th>\n",
       "      <th>finishing</th>\n",
       "      <th>heading_accuracy</th>\n",
       "      <th>short_passing</th>\n",
       "      <th>volleys</th>\n",
       "      <th>dribbling</th>\n",
       "      <th>curve</th>\n",
       "      <th>free_kick_accuracy</th>\n",
       "      <th>long_passing</th>\n",
       "      <th>ball_control</th>\n",
       "      <th>acceleration</th>\n",
       "      <th>sprint_speed</th>\n",
       "      <th>agility</th>\n",
       "      <th>reactions</th>\n",
       "      <th>balance</th>\n",
       "      <th>shot_power</th>\n",
       "      <th>jumping</th>\n",
       "      <th>stamina</th>\n",
       "      <th>strength</th>\n",
       "      <th>long_shots</th>\n",
       "      <th>aggression</th>\n",
       "      <th>interceptions</th>\n",
       "      <th>positioning</th>\n",
       "      <th>vision</th>\n",
       "      <th>penalties</th>\n",
       "      <th>marking</th>\n",
       "      <th>standing_tackle</th>\n",
       "      <th>sliding_tackle</th>\n",
       "      <th>gk_diving</th>\n",
       "      <th>gk_handling</th>\n",
       "      <th>gk_kicking</th>\n",
       "      <th>gk_positioning</th>\n",
       "      <th>gk_reflexes</th>\n",
       "    </tr>\n",
       "  </thead>\n",
       "  <tbody>\n",
       "    <tr>\n",
       "      <th>0</th>\n",
       "      <td>1</td>\n",
       "      <td>218353</td>\n",
       "      <td>505942</td>\n",
       "      <td>2016-02-18 00:00:00</td>\n",
       "      <td>67</td>\n",
       "      <td>71</td>\n",
       "      <td>right</td>\n",
       "      <td>medium</td>\n",
       "      <td>medium</td>\n",
       "      <td>49</td>\n",
       "      <td>44</td>\n",
       "      <td>71</td>\n",
       "      <td>61</td>\n",
       "      <td>44</td>\n",
       "      <td>51</td>\n",
       "      <td>45</td>\n",
       "      <td>39</td>\n",
       "      <td>64</td>\n",
       "      <td>49</td>\n",
       "      <td>60</td>\n",
       "      <td>64</td>\n",
       "      <td>59</td>\n",
       "      <td>47</td>\n",
       "      <td>65</td>\n",
       "      <td>55</td>\n",
       "      <td>58</td>\n",
       "      <td>54</td>\n",
       "      <td>76</td>\n",
       "      <td>35</td>\n",
       "      <td>71</td>\n",
       "      <td>70</td>\n",
       "      <td>45</td>\n",
       "      <td>54</td>\n",
       "      <td>48</td>\n",
       "      <td>65</td>\n",
       "      <td>69</td>\n",
       "      <td>69</td>\n",
       "      <td>6</td>\n",
       "      <td>11</td>\n",
       "      <td>10</td>\n",
       "      <td>8</td>\n",
       "      <td>8</td>\n",
       "    </tr>\n",
       "    <tr>\n",
       "      <th>1</th>\n",
       "      <td>2</td>\n",
       "      <td>218353</td>\n",
       "      <td>505942</td>\n",
       "      <td>2015-11-19 00:00:00</td>\n",
       "      <td>67</td>\n",
       "      <td>71</td>\n",
       "      <td>right</td>\n",
       "      <td>medium</td>\n",
       "      <td>medium</td>\n",
       "      <td>49</td>\n",
       "      <td>44</td>\n",
       "      <td>71</td>\n",
       "      <td>61</td>\n",
       "      <td>44</td>\n",
       "      <td>51</td>\n",
       "      <td>45</td>\n",
       "      <td>39</td>\n",
       "      <td>64</td>\n",
       "      <td>49</td>\n",
       "      <td>60</td>\n",
       "      <td>64</td>\n",
       "      <td>59</td>\n",
       "      <td>47</td>\n",
       "      <td>65</td>\n",
       "      <td>55</td>\n",
       "      <td>58</td>\n",
       "      <td>54</td>\n",
       "      <td>76</td>\n",
       "      <td>35</td>\n",
       "      <td>71</td>\n",
       "      <td>70</td>\n",
       "      <td>45</td>\n",
       "      <td>54</td>\n",
       "      <td>48</td>\n",
       "      <td>65</td>\n",
       "      <td>69</td>\n",
       "      <td>69</td>\n",
       "      <td>6</td>\n",
       "      <td>11</td>\n",
       "      <td>10</td>\n",
       "      <td>8</td>\n",
       "      <td>8</td>\n",
       "    </tr>\n",
       "    <tr>\n",
       "      <th>2</th>\n",
       "      <td>3</td>\n",
       "      <td>218353</td>\n",
       "      <td>505942</td>\n",
       "      <td>2015-09-21 00:00:00</td>\n",
       "      <td>62</td>\n",
       "      <td>66</td>\n",
       "      <td>right</td>\n",
       "      <td>medium</td>\n",
       "      <td>medium</td>\n",
       "      <td>49</td>\n",
       "      <td>44</td>\n",
       "      <td>71</td>\n",
       "      <td>61</td>\n",
       "      <td>44</td>\n",
       "      <td>51</td>\n",
       "      <td>45</td>\n",
       "      <td>39</td>\n",
       "      <td>64</td>\n",
       "      <td>49</td>\n",
       "      <td>60</td>\n",
       "      <td>64</td>\n",
       "      <td>59</td>\n",
       "      <td>47</td>\n",
       "      <td>65</td>\n",
       "      <td>55</td>\n",
       "      <td>58</td>\n",
       "      <td>54</td>\n",
       "      <td>76</td>\n",
       "      <td>35</td>\n",
       "      <td>63</td>\n",
       "      <td>41</td>\n",
       "      <td>45</td>\n",
       "      <td>54</td>\n",
       "      <td>48</td>\n",
       "      <td>65</td>\n",
       "      <td>66</td>\n",
       "      <td>69</td>\n",
       "      <td>6</td>\n",
       "      <td>11</td>\n",
       "      <td>10</td>\n",
       "      <td>8</td>\n",
       "      <td>8</td>\n",
       "    </tr>\n",
       "    <tr>\n",
       "      <th>3</th>\n",
       "      <td>4</td>\n",
       "      <td>218353</td>\n",
       "      <td>505942</td>\n",
       "      <td>2015-03-20 00:00:00</td>\n",
       "      <td>61</td>\n",
       "      <td>65</td>\n",
       "      <td>right</td>\n",
       "      <td>medium</td>\n",
       "      <td>medium</td>\n",
       "      <td>48</td>\n",
       "      <td>43</td>\n",
       "      <td>70</td>\n",
       "      <td>60</td>\n",
       "      <td>43</td>\n",
       "      <td>50</td>\n",
       "      <td>44</td>\n",
       "      <td>38</td>\n",
       "      <td>63</td>\n",
       "      <td>48</td>\n",
       "      <td>60</td>\n",
       "      <td>64</td>\n",
       "      <td>59</td>\n",
       "      <td>46</td>\n",
       "      <td>65</td>\n",
       "      <td>54</td>\n",
       "      <td>58</td>\n",
       "      <td>54</td>\n",
       "      <td>76</td>\n",
       "      <td>34</td>\n",
       "      <td>62</td>\n",
       "      <td>40</td>\n",
       "      <td>44</td>\n",
       "      <td>53</td>\n",
       "      <td>47</td>\n",
       "      <td>62</td>\n",
       "      <td>63</td>\n",
       "      <td>66</td>\n",
       "      <td>5</td>\n",
       "      <td>10</td>\n",
       "      <td>9</td>\n",
       "      <td>7</td>\n",
       "      <td>7</td>\n",
       "    </tr>\n",
       "    <tr>\n",
       "      <th>4</th>\n",
       "      <td>5</td>\n",
       "      <td>218353</td>\n",
       "      <td>505942</td>\n",
       "      <td>2007-02-22 00:00:00</td>\n",
       "      <td>61</td>\n",
       "      <td>65</td>\n",
       "      <td>right</td>\n",
       "      <td>medium</td>\n",
       "      <td>medium</td>\n",
       "      <td>48</td>\n",
       "      <td>43</td>\n",
       "      <td>70</td>\n",
       "      <td>60</td>\n",
       "      <td>43</td>\n",
       "      <td>50</td>\n",
       "      <td>44</td>\n",
       "      <td>38</td>\n",
       "      <td>63</td>\n",
       "      <td>48</td>\n",
       "      <td>60</td>\n",
       "      <td>64</td>\n",
       "      <td>59</td>\n",
       "      <td>46</td>\n",
       "      <td>65</td>\n",
       "      <td>54</td>\n",
       "      <td>58</td>\n",
       "      <td>54</td>\n",
       "      <td>76</td>\n",
       "      <td>34</td>\n",
       "      <td>62</td>\n",
       "      <td>40</td>\n",
       "      <td>44</td>\n",
       "      <td>53</td>\n",
       "      <td>47</td>\n",
       "      <td>62</td>\n",
       "      <td>63</td>\n",
       "      <td>66</td>\n",
       "      <td>5</td>\n",
       "      <td>10</td>\n",
       "      <td>9</td>\n",
       "      <td>7</td>\n",
       "      <td>7</td>\n",
       "    </tr>\n",
       "  </tbody>\n",
       "</table>\n",
       "</div>"
      ],
      "text/plain": [
       "   id  player_fifa_api_id  player_api_id                 date  overall_rating  potential preferred_foot attacking_work_rate defensive_work_rate  crossing  finishing  heading_accuracy  short_passing  volleys  dribbling  curve  free_kick_accuracy  long_passing  ball_control  acceleration  sprint_speed  agility  reactions  balance  shot_power  jumping  stamina  strength  long_shots  aggression  interceptions  positioning  vision  penalties  marking  standing_tackle  sliding_tackle  gk_diving  gk_handling  gk_kicking  gk_positioning  gk_reflexes\n",
       "0   1              218353         505942  2016-02-18 00:00:00              67         71          right              medium              medium        49         44                71             61       44         51     45                  39            64            49            60            64       59         47       65          55       58       54        76          35          71             70           45      54         48       65               69              69          6           11          10               8            8\n",
       "1   2              218353         505942  2015-11-19 00:00:00              67         71          right              medium              medium        49         44                71             61       44         51     45                  39            64            49            60            64       59         47       65          55       58       54        76          35          71             70           45      54         48       65               69              69          6           11          10               8            8\n",
       "2   3              218353         505942  2015-09-21 00:00:00              62         66          right              medium              medium        49         44                71             61       44         51     45                  39            64            49            60            64       59         47       65          55       58       54        76          35          63             41           45      54         48       65               66              69          6           11          10               8            8\n",
       "3   4              218353         505942  2015-03-20 00:00:00              61         65          right              medium              medium        48         43                70             60       43         50     44                  38            63            48            60            64       59         46       65          54       58       54        76          34          62             40           44      53         47       62               63              66          5           10           9               7            7\n",
       "4   5              218353         505942  2007-02-22 00:00:00              61         65          right              medium              medium        48         43                70             60       43         50     44                  38            63            48            60            64       59         46       65          54       58       54        76          34          62             40           44      53         47       62               63              66          5           10           9               7            7"
      ]
     },
     "execution_count": 57,
     "metadata": {},
     "output_type": "execute_result"
    }
   ],
   "source": [
    "player_att.to_pandas_on_spark().head(5)"
   ]
  },
  {
   "cell_type": "code",
   "execution_count": 58,
   "metadata": {},
   "outputs": [
    {
     "data": {
      "text/plain": [
       "11060"
      ]
     },
     "execution_count": 58,
     "metadata": {},
     "output_type": "execute_result"
    }
   ],
   "source": [
    "players.select('player_api_id').distinct().count()"
   ]
  },
  {
   "cell_type": "code",
   "execution_count": 59,
   "metadata": {},
   "outputs": [
    {
     "data": {
      "text/plain": [
       "11060"
      ]
     },
     "execution_count": 59,
     "metadata": {},
     "output_type": "execute_result"
    }
   ],
   "source": [
    "player_att.select('player_api_id').distinct().count()"
   ]
  },
  {
   "cell_type": "code",
   "execution_count": 60,
   "metadata": {},
   "outputs": [],
   "source": [
    "players = players.drop('id','player_fifa_api_id')"
   ]
  },
  {
   "cell_type": "code",
   "execution_count": 61,
   "metadata": {},
   "outputs": [],
   "source": [
    "player_att = (player_att.drop(\n",
    "'id',\n",
    "'player_fifa_api_id',\n",
    "'preferred_foot',\n",
    "'attacking_work_rate',\n",
    "'defensive_work_rate',\n",
    "'crossing',\n",
    "'jumping',\n",
    "'sprint_speed',\n",
    "'balance',\n",
    "'aggression',\n",
    "'short_passing',\n",
    "'potential'\n",
    ")\n",
    ")"
   ]
  },
  {
   "cell_type": "code",
   "execution_count": 62,
   "metadata": {},
   "outputs": [],
   "source": [
    "players = players.dropna()\n",
    "player_att = player_att.dropna()"
   ]
  },
  {
   "cell_type": "code",
   "execution_count": 63,
   "metadata": {},
   "outputs": [],
   "source": [
    "player_att = player_att.withColumn('year',year(col('date')))"
   ]
  },
  {
   "cell_type": "code",
   "execution_count": 64,
   "metadata": {},
   "outputs": [],
   "source": [
    "player_att = player_att.drop('date')"
   ]
  },
  {
   "cell_type": "code",
   "execution_count": 65,
   "metadata": {},
   "outputs": [],
   "source": [
    "p_2016 = player_att.filter(col('year')==2016)"
   ]
  },
  {
   "cell_type": "code",
   "execution_count": 66,
   "metadata": {},
   "outputs": [
    {
     "data": {
      "text/plain": [
       "14098"
      ]
     },
     "execution_count": 66,
     "metadata": {},
     "output_type": "execute_result"
    }
   ],
   "source": [
    "p_2016.cache()\n",
    "p_2016.count()"
   ]
  },
  {
   "cell_type": "code",
   "execution_count": 67,
   "metadata": {},
   "outputs": [],
   "source": [
    "striker_2016 = (p_2016\n",
    ".groupBy('player_api_id')\n",
    ".agg(\n",
    "    avg(col('finishing')).alias('finishing'),\n",
    "    avg(col('shot_power')).alias('shot_power'),\n",
    "    avg(col('acceleration')).alias('acceleration')\n",
    "    )\n",
    ")"
   ]
  },
  {
   "cell_type": "code",
   "execution_count": 68,
   "metadata": {},
   "outputs": [
    {
     "name": "stdout",
     "output_type": "stream",
     "text": [
      "+-------------+-----------------+----------+-----------------+\n",
      "|player_api_id|        finishing|shot_power|     acceleration|\n",
      "+-------------+-----------------+----------+-----------------+\n",
      "|       114503|             78.0|      75.0|             77.0|\n",
      "|       171094|             39.0|      36.0|             65.0|\n",
      "|        27484|             61.0|      71.0|71.66666666666667|\n",
      "|       166648|86.83333333333333|      81.0|             84.0|\n",
      "|       352887|             70.0|      75.0|             65.0|\n",
      "+-------------+-----------------+----------+-----------------+\n",
      "only showing top 5 rows\n",
      "\n"
     ]
    }
   ],
   "source": [
    "striker_2016.show(5)"
   ]
  },
  {
   "cell_type": "code",
   "execution_count": 69,
   "metadata": {},
   "outputs": [],
   "source": [
    "weight_finishing = 1\n",
    "weight_shot_power = 2\n",
    "weight_acceleration = 1\n",
    "\n",
    "total_weight = weight_finishing + weight_shot_power + weight_acceleration"
   ]
  },
  {
   "cell_type": "code",
   "execution_count": 70,
   "metadata": {},
   "outputs": [],
   "source": [
    "striker = striker_2016.withColumn('striker_grade', (col('finishing') * weight_finishing + col('shot_power') * weight_shot_power +  col('acceleration') * weight_acceleration )/total_weight )"
   ]
  },
  {
   "cell_type": "code",
   "execution_count": 71,
   "metadata": {},
   "outputs": [],
   "source": [
    "striker = striker.drop('finishing','shot_power','acceleration')"
   ]
  },
  {
   "cell_type": "code",
   "execution_count": 72,
   "metadata": {},
   "outputs": [],
   "source": [
    "good_strikers = striker.filter(col('striker_grade')>70).orderBy(col('striker_grade').desc())"
   ]
  },
  {
   "cell_type": "code",
   "execution_count": 73,
   "metadata": {},
   "outputs": [
    {
     "name": "stdout",
     "output_type": "stream",
     "text": [
      "+-------------+-----------------+\n",
      "|player_api_id|    striker_grade|\n",
      "+-------------+-----------------+\n",
      "|        20276|            89.25|\n",
      "|        37412|             89.0|\n",
      "|        38817|            88.75|\n",
      "|        32118|            88.25|\n",
      "|        31921|             87.0|\n",
      "|        30834|            86.75|\n",
      "|       303824|85.10714285714286|\n",
      "|       129944|             85.0|\n",
      "|       158263|            84.75|\n",
      "|       150565|            84.75|\n",
      "+-------------+-----------------+\n",
      "only showing top 10 rows\n",
      "\n"
     ]
    }
   ],
   "source": [
    "good_strikers.show(10)"
   ]
  },
  {
   "cell_type": "code",
   "execution_count": 74,
   "metadata": {},
   "outputs": [],
   "source": [
    "striker_details = (players.alias('p')\n",
    ".join(broadcast(good_strikers).alias('gs'),\n",
    "on=[col('p.player_api_id')==col('gs.player_api_id')],\n",
    "how='inner')\n",
    ".select('p.*','gs.striker_grade')\n",
    ")"
   ]
  },
  {
   "cell_type": "code",
   "execution_count": 75,
   "metadata": {},
   "outputs": [
    {
     "name": "stdout",
     "output_type": "stream",
     "text": [
      "+-------------+-----------------+-------------------+------+------+-------------+\n",
      "|player_api_id|      player_name|           birthday|height|weight|striker_grade|\n",
      "+-------------+-----------------+-------------------+------+------+-------------+\n",
      "|        27316|       Aaron Hunt|1986-09-04 00:00:00|182.88|   161|        74.75|\n",
      "|        40719|     Aaron Niguez|1989-04-26 00:00:00|170.18|   143|        74.25|\n",
      "|        75489|     Aaron Ramsey|1990-12-26 00:00:00| 177.8|   154|       76.875|\n",
      "|       120919|Aatif Chahechouhe|1986-07-02 00:00:00|175.26|   150|         78.0|\n",
      "|        67334|Abdoul Karim Yoda|1988-10-25 00:00:00|182.88|   161|         74.0|\n",
      "+-------------+-----------------+-------------------+------+------+-------------+\n",
      "only showing top 5 rows\n",
      "\n"
     ]
    }
   ],
   "source": [
    "striker_details.show(5)"
   ]
  },
  {
   "cell_type": "code",
   "execution_count": 76,
   "metadata": {},
   "outputs": [],
   "source": [
    "heading_acc = (player_att.alias('pa')\n",
    ".join(broadcast(players).alias('p'),on=[col('p.player_api_id')==col('pa.player_api_id')],how='inner')\n",
    ".select('p.player_api_id','pa.heading_accuracy','p.height')\n",
    ")"
   ]
  },
  {
   "cell_type": "code",
   "execution_count": 77,
   "metadata": {},
   "outputs": [],
   "source": [
    "short_count = spark.sparkContext.accumulator(0)\n",
    "medium_low_count = spark.sparkContext.accumulator(0)\n",
    "medium_high_count = spark.sparkContext.accumulator(0)\n",
    "tall_count = spark.sparkContext.accumulator(0)"
   ]
  },
  {
   "cell_type": "code",
   "execution_count": 78,
   "metadata": {},
   "outputs": [],
   "source": [
    "def count_players_by_height(row):\n",
    "    height = float(row.height)\n",
    "\n",
    "    if (height <= 175):\n",
    "        short_count.add(1)\n",
    "    elif (height <= 183 and height > 175):\n",
    "        medium_low_count.add(1)\n",
    "    elif (height <= 195 and height> 183):\n",
    "        medium_high_count.add(1)\n",
    "    else:\n",
    "        tall_count.add(1)"
   ]
  },
  {
   "cell_type": "code",
   "execution_count": 79,
   "metadata": {},
   "outputs": [],
   "source": [
    "heading_acc.foreach(lambda x: count_players_by_height(x))"
   ]
  },
  {
   "cell_type": "code",
   "execution_count": 80,
   "metadata": {},
   "outputs": [
    {
     "data": {
      "text/plain": [
       "[18977, 97399, 61518, 3371]"
      ]
     },
     "execution_count": 80,
     "metadata": {},
     "output_type": "execute_result"
    }
   ],
   "source": [
    "[short_count.value,medium_low_count.value,medium_high_count.value,tall_count.value]"
   ]
  },
  {
   "cell_type": "code",
   "execution_count": 81,
   "metadata": {},
   "outputs": [],
   "source": [
    "short_ha_count = spark.sparkContext.accumulator(0)\n",
    "medium_ha_low_count = spark.sparkContext.accumulator(0)\n",
    "medium_ha_high_count = spark.sparkContext.accumulator(0)\n",
    "tall_ha_count = spark.sparkContext.accumulator(0)"
   ]
  },
  {
   "cell_type": "code",
   "execution_count": 82,
   "metadata": {},
   "outputs": [],
   "source": [
    "def count_players_by_height_and_ha(row, threshold_score):\n",
    "    height = float(row.height)\n",
    "    ha = float(row.heading_accuracy)\n",
    "\n",
    "    if ha <= threshold_score:\n",
    "        return\n",
    "\n",
    "    if (height <= 175):\n",
    "        short_ha_count.add(1)\n",
    "    elif (height <= 183 and height > 175):\n",
    "        medium_ha_low_count.add(1)\n",
    "    elif (height <= 195 and height> 183):\n",
    "        medium_ha_high_count.add(1)\n",
    "    else:\n",
    "        tall_ha_count.add(1)"
   ]
  },
  {
   "cell_type": "code",
   "execution_count": 83,
   "metadata": {},
   "outputs": [],
   "source": [
    "heading_acc.foreach(lambda x: count_players_by_height_and_ha(x,60))"
   ]
  },
  {
   "cell_type": "code",
   "execution_count": 84,
   "metadata": {},
   "outputs": [
    {
     "data": {
      "text/plain": [
       "[3653, 41448, 40270, 1573]"
      ]
     },
     "execution_count": 84,
     "metadata": {},
     "output_type": "execute_result"
    }
   ],
   "source": [
    "[short_ha_count.value,medium_ha_low_count.value,medium_ha_high_count.value,tall_ha_count.value]"
   ]
  },
  {
   "cell_type": "code",
   "execution_count": 85,
   "metadata": {},
   "outputs": [
    {
     "data": {
      "text/plain": [
       "[19.249617958581442, 42.55485169252251, 65.46051562144413, 46.66271136161376]"
      ]
     },
     "execution_count": 85,
     "metadata": {},
     "output_type": "execute_result"
    }
   ],
   "source": [
    "[short_ha_count.value/short_count.value *100,\n",
    "medium_ha_low_count.value/medium_low_count.value *100,\n",
    "medium_ha_high_count.value/medium_high_count.value *100,\n",
    "tall_ha_count.value/tall_count.value *100\n",
    "]"
   ]
  },
  {
   "cell_type": "code",
   "execution_count": 86,
   "metadata": {},
   "outputs": [
    {
     "data": {
      "text/plain": [
       "8"
      ]
     },
     "execution_count": 86,
     "metadata": {},
     "output_type": "execute_result"
    }
   ],
   "source": [
    "p_2016.rdd.getNumPartitions()"
   ]
  },
  {
   "cell_type": "code",
   "execution_count": 87,
   "metadata": {},
   "outputs": [],
   "source": [
    "p_2016.repartition(1).write.csv(path='csv',mode='overwrite',sep=';',header=True)"
   ]
  },
  {
   "cell_type": "code",
   "execution_count": 88,
   "metadata": {},
   "outputs": [],
   "source": [
    "p_2016.write.orc(path='orc',mode='overwrite')"
   ]
  },
  {
   "cell_type": "code",
   "execution_count": 89,
   "metadata": {},
   "outputs": [],
   "source": [
    "p_2016.repartition(1).write.json(path='json',mode='overwrite')"
   ]
  },
  {
   "cell_type": "markdown",
   "metadata": {},
   "source": [
    "### Spark SQL"
   ]
  },
  {
   "cell_type": "code",
   "execution_count": 1,
   "metadata": {},
   "outputs": [],
   "source": [
    "from pyspark.sql import SparkSession\n",
    "from pyspark import SparkContext\n",
    "from pyspark.sql.types import Row\n",
    "from datetime import datetime"
   ]
  },
  {
   "cell_type": "code",
   "execution_count": 2,
   "metadata": {},
   "outputs": [
    {
     "name": "stderr",
     "output_type": "stream",
     "text": [
      "22/04/30 18:08:21 WARN Utils: Your hostname, PANZER resolves to a loopback address: 127.0.1.1; using 172.28.24.15 instead (on interface eth0)\n",
      "22/04/30 18:08:21 WARN Utils: Set SPARK_LOCAL_IP if you need to bind to another address\n",
      "WARNING: An illegal reflective access operation has occurred\n",
      "WARNING: Illegal reflective access by org.apache.spark.unsafe.Platform (file:/home/vale/.local/lib/python3.8/site-packages/pyspark/jars/spark-unsafe_2.12-3.2.1.jar) to constructor java.nio.DirectByteBuffer(long,int)\n",
      "WARNING: Please consider reporting this to the maintainers of org.apache.spark.unsafe.Platform\n",
      "WARNING: Use --illegal-access=warn to enable warnings of further illegal reflective access operations\n",
      "WARNING: All illegal access operations will be denied in a future release\n",
      "Using Spark's default log4j profile: org/apache/spark/log4j-defaults.properties\n",
      "Setting default log level to \"WARN\".\n",
      "To adjust logging level use sc.setLogLevel(newLevel). For SparkR, use setLogLevel(newLevel).\n",
      "22/04/30 18:08:22 WARN NativeCodeLoader: Unable to load native-hadoop library for your platform... using builtin-java classes where applicable\n"
     ]
    }
   ],
   "source": [
    "sc = SparkContext()\n",
    "spark = SparkSession.builder\\\n",
    "    .master('local[*]')\\\n",
    "    .getOrCreate()\n"
   ]
  },
  {
   "cell_type": "code",
   "execution_count": 3,
   "metadata": {},
   "outputs": [],
   "source": [
    "record = sc.parallelize([\n",
    "Row(id=1, name='Jill', active = True, clubs = ['chess','hockey'],subjects = {\"math\":80, \"english\": 56}, enrolled = datetime(2014,8,1,14,1,5)),\n",
    "Row(id=2, name='George', active = False, clubs = ['chess','soccer'],subjects = {\"math\":60, \"english\": 96}, enrolled = datetime(2015,3,21,8,2,5))\n",
    "])"
   ]
  },
  {
   "cell_type": "code",
   "execution_count": 4,
   "metadata": {},
   "outputs": [
    {
     "name": "stdout",
     "output_type": "stream",
     "text": [
      "+---+------+------+---------------+--------------------+-------------------+\n",
      "| id|  name|active|          clubs|            subjects|           enrolled|\n",
      "+---+------+------+---------------+--------------------+-------------------+\n",
      "|  1|  Jill|  true|[chess, hockey]|{english -> 56, m...|2014-08-01 14:01:05|\n",
      "|  2|George| false|[chess, soccer]|{english -> 96, m...|2015-03-21 08:02:05|\n",
      "+---+------+------+---------------+--------------------+-------------------+\n",
      "\n"
     ]
    }
   ],
   "source": [
    "df = record.toDF()\n",
    "df.show()"
   ]
  },
  {
   "cell_type": "code",
   "execution_count": 5,
   "metadata": {},
   "outputs": [],
   "source": [
    "df.createOrReplaceTempView('records')"
   ]
  },
  {
   "cell_type": "code",
   "execution_count": 7,
   "metadata": {},
   "outputs": [
    {
     "name": "stdout",
     "output_type": "stream",
     "text": [
      "+---+------+------+---------------+--------------------+-------------------+\n",
      "| id|  name|active|          clubs|            subjects|           enrolled|\n",
      "+---+------+------+---------------+--------------------+-------------------+\n",
      "|  1|  Jill|  true|[chess, hockey]|{english -> 56, m...|2014-08-01 14:01:05|\n",
      "|  2|George| false|[chess, soccer]|{english -> 96, m...|2015-03-21 08:02:05|\n",
      "+---+------+------+---------------+--------------------+-------------------+\n",
      "\n"
     ]
    }
   ],
   "source": [
    "spark.sql('SELECT * FROM records').show()"
   ]
  },
  {
   "cell_type": "code",
   "execution_count": 8,
   "metadata": {},
   "outputs": [
    {
     "name": "stdout",
     "output_type": "stream",
     "text": [
      "+---+--------+-----------------+\n",
      "| id|clubs[1]|subjects[english]|\n",
      "+---+--------+-----------------+\n",
      "|  1|  hockey|               56|\n",
      "|  2|  soccer|               96|\n",
      "+---+--------+-----------------+\n",
      "\n"
     ]
    }
   ],
   "source": [
    "spark.sql('SELECT id, clubs[1],subjects[\"english\"] FROM records').show()"
   ]
  },
  {
   "cell_type": "code",
   "execution_count": 9,
   "metadata": {},
   "outputs": [
    {
     "name": "stdout",
     "output_type": "stream",
     "text": [
      "+---+------------+\n",
      "| id|(NOT active)|\n",
      "+---+------------+\n",
      "|  1|       false|\n",
      "|  2|        true|\n",
      "+---+------------+\n",
      "\n"
     ]
    }
   ],
   "source": [
    "spark.sql('SELECT id, NOT active FROM records').show()"
   ]
  },
  {
   "cell_type": "code",
   "execution_count": 10,
   "metadata": {},
   "outputs": [
    {
     "name": "stdout",
     "output_type": "stream",
     "text": [
      "+---+----+------+---------------+--------------------+-------------------+\n",
      "| id|name|active|          clubs|            subjects|           enrolled|\n",
      "+---+----+------+---------------+--------------------+-------------------+\n",
      "|  1|Jill|  true|[chess, hockey]|{english -> 56, m...|2014-08-01 14:01:05|\n",
      "+---+----+------+---------------+--------------------+-------------------+\n",
      "\n"
     ]
    }
   ],
   "source": [
    "spark.sql('SELECT * FROM records where active').show()"
   ]
  },
  {
   "cell_type": "code",
   "execution_count": 11,
   "metadata": {},
   "outputs": [
    {
     "name": "stdout",
     "output_type": "stream",
     "text": [
      "+---+------+------+---------------+--------------------+-------------------+\n",
      "| id|  name|active|          clubs|            subjects|           enrolled|\n",
      "+---+------+------+---------------+--------------------+-------------------+\n",
      "|  2|George| false|[chess, soccer]|{english -> 96, m...|2015-03-21 08:02:05|\n",
      "+---+------+------+---------------+--------------------+-------------------+\n",
      "\n"
     ]
    }
   ],
   "source": [
    "spark.sql('SELECT * FROM records where subjects[\"english\"] > 90').show()"
   ]
  },
  {
   "cell_type": "code",
   "execution_count": 12,
   "metadata": {},
   "outputs": [],
   "source": [
    "df.createGlobalTempView(\"global_records\")"
   ]
  },
  {
   "cell_type": "code",
   "execution_count": 13,
   "metadata": {},
   "outputs": [
    {
     "name": "stdout",
     "output_type": "stream",
     "text": [
      "+---+------+------+---------------+--------------------+-------------------+\n",
      "| id|  name|active|          clubs|            subjects|           enrolled|\n",
      "+---+------+------+---------------+--------------------+-------------------+\n",
      "|  1|  Jill|  true|[chess, hockey]|{english -> 56, m...|2014-08-01 14:01:05|\n",
      "|  2|George| false|[chess, soccer]|{english -> 96, m...|2015-03-21 08:02:05|\n",
      "+---+------+------+---------------+--------------------+-------------------+\n",
      "\n"
     ]
    }
   ],
   "source": [
    "spark.sql('SELECT * FROM global_temp.global_records').show()"
   ]
  },
  {
   "cell_type": "markdown",
   "metadata": {},
   "source": [
    "### Airline"
   ]
  },
  {
   "cell_type": "code",
   "execution_count": 44,
   "metadata": {},
   "outputs": [],
   "source": [
    "from pyspark.sql import SparkSession\n",
    "import wget\n",
    "from pyspark.sql.functions import col,sum, avg\n"
   ]
  },
  {
   "cell_type": "code",
   "execution_count": 14,
   "metadata": {},
   "outputs": [],
   "source": [
    "spark = SparkSession.builder\\\n",
    "    .master('local[*]')\\\n",
    "    .getOrCreate()\n"
   ]
  },
  {
   "cell_type": "code",
   "execution_count": 16,
   "metadata": {},
   "outputs": [
    {
     "data": {
      "text/plain": [
       "'./airports.csv'"
      ]
     },
     "execution_count": 16,
     "metadata": {},
     "output_type": "execute_result"
    }
   ],
   "source": [
    "wget.download('https://archive.org/download/datasets_getting_started_with_spark_two/airlines.csv','.') #56.7 Kb\n",
    "wget.download('https://archive.org/download/datasets_getting_started_with_spark_two/flights.csv','.') #30.2 Mb\n",
    "wget.download('https://archive.org/download/datasets_getting_started_with_spark_two/airports.csv','.') #284.3 Kb"
   ]
  },
  {
   "cell_type": "code",
   "execution_count": 17,
   "metadata": {},
   "outputs": [],
   "source": [
    "airlines = spark.read.csv('airlines.csv',inferSchema=True,header=True)\n",
    "flights = spark.read.csv('flights.csv',inferSchema=True,header=True)\n",
    "airports = spark.read.csv('airports.csv',inferSchema=True,header=True)"
   ]
  },
  {
   "cell_type": "code",
   "execution_count": 18,
   "metadata": {},
   "outputs": [],
   "source": [
    "airlines.createOrReplaceTempView('airlines')\n",
    "flights.createOrReplaceTempView('flights')\n",
    "airports.createOrReplaceTempView('airports')"
   ]
  },
  {
   "cell_type": "code",
   "execution_count": 19,
   "metadata": {},
   "outputs": [
    {
     "data": {
      "text/plain": [
       "['Code', 'Description']"
      ]
     },
     "execution_count": 19,
     "metadata": {},
     "output_type": "execute_result"
    }
   ],
   "source": [
    "tv_airlines = spark.sql('SELECT * FROM airlines')\n",
    "tv_airlines.columns"
   ]
  },
  {
   "cell_type": "code",
   "execution_count": 20,
   "metadata": {},
   "outputs": [
    {
     "name": "stdout",
     "output_type": "stream",
     "text": [
      "+-----+--------------------+\n",
      "| Code|         Description|\n",
      "+-----+--------------------+\n",
      "|19031|Mackey Internatio...|\n",
      "|19032|Munz Northern Air...|\n",
      "|19033|Cochise Airlines ...|\n",
      "|19034|Golden Gate Airli...|\n",
      "|19035|  Aeromech Inc.: RZZ|\n",
      "+-----+--------------------+\n",
      "only showing top 5 rows\n",
      "\n"
     ]
    }
   ],
   "source": [
    "tv_airlines.show(5)"
   ]
  },
  {
   "cell_type": "code",
   "execution_count": 21,
   "metadata": {},
   "outputs": [
    {
     "data": {
      "text/plain": [
       "['date',\n",
       " 'airlines',\n",
       " 'flight_number',\n",
       " 'origin',\n",
       " 'destination',\n",
       " 'departure',\n",
       " 'departure_delay',\n",
       " 'arrival',\n",
       " 'arrival_delay',\n",
       " 'air_time',\n",
       " 'distance']"
      ]
     },
     "execution_count": 21,
     "metadata": {},
     "output_type": "execute_result"
    }
   ],
   "source": [
    "tv_flights= spark.sql('SELECT * FROM flights')\n",
    "tv_flights.columns"
   ]
  },
  {
   "cell_type": "code",
   "execution_count": 22,
   "metadata": {},
   "outputs": [
    {
     "name": "stdout",
     "output_type": "stream",
     "text": [
      "+----------+--------+-------------+------+-----------+---------+---------------+-------+-------------+--------+--------+\n",
      "|      date|airlines|flight_number|origin|destination|departure|departure_delay|arrival|arrival_delay|air_time|distance|\n",
      "+----------+--------+-------------+------+-----------+---------+---------------+-------+-------------+--------+--------+\n",
      "|2014-04-01|   19805|            1|   JFK|        LAX|      854|           -6.0|   1217|          2.0|   355.0|  2475.0|\n",
      "|2014-04-01|   19805|            2|   LAX|        JFK|      944|           14.0|   1736|        -29.0|   269.0|  2475.0|\n",
      "|2014-04-01|   19805|            3|   JFK|        LAX|     1224|           -6.0|   1614|         39.0|   371.0|  2475.0|\n",
      "|2014-04-01|   19805|            4|   LAX|        JFK|     1240|           25.0|   2028|        -27.0|   264.0|  2475.0|\n",
      "|2014-04-01|   19805|            5|   DFW|        HNL|     1300|           -5.0|   1650|         15.0|   510.0|  3784.0|\n",
      "+----------+--------+-------------+------+-----------+---------+---------------+-------+-------------+--------+--------+\n",
      "only showing top 5 rows\n",
      "\n"
     ]
    }
   ],
   "source": [
    "tv_flights.show(5)"
   ]
  },
  {
   "cell_type": "code",
   "execution_count": 23,
   "metadata": {},
   "outputs": [
    {
     "data": {
      "text/plain": [
       "(476881, 1579)"
      ]
     },
     "execution_count": 23,
     "metadata": {},
     "output_type": "execute_result"
    }
   ],
   "source": [
    "tv_flights.count(),tv_airlines.count()"
   ]
  },
  {
   "cell_type": "code",
   "execution_count": 25,
   "metadata": {},
   "outputs": [
    {
     "name": "stdout",
     "output_type": "stream",
     "text": [
      "+--------+------+\n",
      "|   table| count|\n",
      "+--------+------+\n",
      "| flights|476881|\n",
      "|airlines|  1579|\n",
      "+--------+------+\n",
      "\n"
     ]
    }
   ],
   "source": [
    "spark.sql(\"select 'flights' as table,count(*) as count from flights union select 'airlines' as table,count(*) as count from airlines\").show()"
   ]
  },
  {
   "cell_type": "code",
   "execution_count": 28,
   "metadata": {},
   "outputs": [
    {
     "name": "stdout",
     "output_type": "stream",
     "text": [
      "+--------------+\n",
      "|total_distance|\n",
      "+--------------+\n",
      "|  3.79052917E8|\n",
      "+--------------+\n",
      "\n"
     ]
    }
   ],
   "source": [
    "spark.sql(\"select distance from flights\").agg(sum(col('distance')).alias('total_distance')).show()"
   ]
  },
  {
   "cell_type": "code",
   "execution_count": 36,
   "metadata": {},
   "outputs": [],
   "source": [
    "delays = spark.sql(\"select date, airlines, flight_number, departure_delay from flights where departure_delay > 0 and year(date) = 2014 order by departure_delay desc\")"
   ]
  },
  {
   "cell_type": "code",
   "execution_count": 37,
   "metadata": {},
   "outputs": [],
   "source": [
    "delays.createOrReplaceTempView('delays')"
   ]
  },
  {
   "cell_type": "code",
   "execution_count": 38,
   "metadata": {},
   "outputs": [
    {
     "name": "stdout",
     "output_type": "stream",
     "text": [
      "+----------+--------+-------------+---------------+\n",
      "|      date|airlines|flight_number|departure_delay|\n",
      "+----------+--------+-------------+---------------+\n",
      "|2014-04-28|   19805|         1680|         1696.0|\n",
      "|2014-04-09|   19805|         1160|         1529.0|\n",
      "|2014-04-12|   19805|         1202|         1489.0|\n",
      "|2014-04-09|   19805|         1521|         1476.0|\n",
      "|2014-04-27|   19805|         1387|         1456.0|\n",
      "|2014-04-03|   19805|         1041|         1312.0|\n",
      "|2014-04-18|   19805|         2249|         1297.0|\n",
      "|2014-04-13|   19805|         1430|         1294.0|\n",
      "|2014-04-30|   19805|         1524|         1256.0|\n",
      "|2014-04-15|   19805|          256|         1241.0|\n",
      "|2014-04-04|   19805|          329|         1239.0|\n",
      "|2014-04-28|   19805|         1480|         1208.0|\n",
      "|2014-04-16|   19805|         1530|         1062.0|\n",
      "|2014-04-03|   19790|           12|         1055.0|\n",
      "|2014-04-07|   19790|         2162|          945.0|\n",
      "|2014-04-26|   19805|          246|          944.0|\n",
      "|2014-04-29|   19805|         1265|          918.0|\n",
      "|2014-04-07|   20398|         2998|          910.0|\n",
      "|2014-04-07|   19805|          246|          897.0|\n",
      "|2014-04-06|   19805|         1593|          895.0|\n",
      "+----------+--------+-------------+---------------+\n",
      "only showing top 20 rows\n",
      "\n"
     ]
    }
   ],
   "source": [
    "delays.show()"
   ]
  },
  {
   "cell_type": "code",
   "execution_count": 41,
   "metadata": {},
   "outputs": [
    {
     "name": "stdout",
     "output_type": "stream",
     "text": [
      "+--------+\n",
      "|count(1)|\n",
      "+--------+\n",
      "|  179015|\n",
      "+--------+\n",
      "\n"
     ]
    }
   ],
   "source": [
    "spark.sql(\"\"\"\n",
    "select count(*) from delays\n",
    "\"\"\").show()"
   ]
  },
  {
   "cell_type": "code",
   "execution_count": 43,
   "metadata": {},
   "outputs": [
    {
     "data": {
      "text/plain": [
       "37.53871510922012"
      ]
     },
     "execution_count": 43,
     "metadata": {},
     "output_type": "execute_result"
    }
   ],
   "source": [
    "delay_percent = spark.sql(\"\"\"\n",
    "select count(*) from delays\n",
    "\"\"\").collect()[0][0] / spark.sql(\"\"\"\n",
    "select count(*) from flights\n",
    "\"\"\").collect()[0][0] * 100\n",
    "delay_percent"
   ]
  },
  {
   "cell_type": "code",
   "execution_count": 47,
   "metadata": {},
   "outputs": [],
   "source": [
    "delay_per_airline = spark.sql(\"SELECT airlines, departure_delay from flights\").groupBy('airlines').agg(avg(col('departure_delay')).alias('departure_delay'))"
   ]
  },
  {
   "cell_type": "code",
   "execution_count": 48,
   "metadata": {},
   "outputs": [
    {
     "name": "stdout",
     "output_type": "stream",
     "text": [
      "+--------+-------------------+\n",
      "|airlines|    departure_delay|\n",
      "+--------+-------------------+\n",
      "|   20398|  7.372135487994157|\n",
      "|   19690|-2.1981308411214955|\n",
      "|   20409|   8.31110357194785|\n",
      "|   19790|  5.597661140117859|\n",
      "|   20304|   6.05227892794094|\n",
      "|   20436|  8.716275167785234|\n",
      "|   19393| 13.429567657134724|\n",
      "|   20355| 3.9925874044242105|\n",
      "|   19805|  6.733031255779545|\n",
      "|   19930|-0.6991515343747522|\n",
      "|   20366| 12.296210112379818|\n",
      "|   19977|  8.818392620527979|\n",
      "|   21171|  6.989682212133719|\n",
      "|   20437|  5.110621095185594|\n",
      "+--------+-------------------+\n",
      "\n"
     ]
    }
   ],
   "source": [
    "delay_per_airline.show()"
   ]
  },
  {
   "cell_type": "code",
   "execution_count": 50,
   "metadata": {},
   "outputs": [],
   "source": [
    "delay_per_airline.createOrReplaceTempView('delay_per_airline')"
   ]
  },
  {
   "cell_type": "code",
   "execution_count": 51,
   "metadata": {},
   "outputs": [
    {
     "name": "stdout",
     "output_type": "stream",
     "text": [
      "+--------+-------------------+\n",
      "|airlines|    departure_delay|\n",
      "+--------+-------------------+\n",
      "|   19393| 13.429567657134724|\n",
      "|   20366| 12.296210112379818|\n",
      "|   19977|  8.818392620527979|\n",
      "|   20436|  8.716275167785234|\n",
      "|   20409|   8.31110357194785|\n",
      "|   20398|  7.372135487994157|\n",
      "|   21171|  6.989682212133719|\n",
      "|   19805|  6.733031255779545|\n",
      "|   20304|   6.05227892794094|\n",
      "|   19790|  5.597661140117859|\n",
      "|   20437|  5.110621095185594|\n",
      "|   20355| 3.9925874044242105|\n",
      "|   19930|-0.6991515343747522|\n",
      "|   19690|-2.1981308411214955|\n",
      "+--------+-------------------+\n",
      "\n"
     ]
    }
   ],
   "source": [
    "spark.sql(\"SELECT * from delay_per_airline order by departure_delay DESC\").show()"
   ]
  },
  {
   "cell_type": "code",
   "execution_count": 52,
   "metadata": {},
   "outputs": [
    {
     "name": "stdout",
     "output_type": "stream",
     "text": [
      "+--------+-------------------+-----+--------------------+\n",
      "|airlines|    departure_delay| Code|         Description|\n",
      "+--------+-------------------+-----+--------------------+\n",
      "|   19393| 13.429567657134724|19393|Southwest Airline...|\n",
      "|   20366| 12.296210112379818|20366|ExpressJet Airlin...|\n",
      "|   19977|  8.818392620527979|19977|United Air Lines ...|\n",
      "|   20436|  8.716275167785234|20436|Frontier Airlines...|\n",
      "|   20409|   8.31110357194785|20409| JetBlue Airways: B6|\n",
      "|   20398|  7.372135487994157|20398|       Envoy Air: MQ|\n",
      "|   21171|  6.989682212133719|21171|  Virgin America: VX|\n",
      "|   19805|  6.733031255779545|19805|American Airlines...|\n",
      "|   20304|   6.05227892794094|20304|SkyWest Airlines ...|\n",
      "|   19790|  5.597661140117859|19790|Delta Air Lines I...|\n",
      "|   20437|  5.110621095185594|20437|AirTran Airways C...|\n",
      "|   20355| 3.9925874044242105|20355| US Airways Inc.: US|\n",
      "|   19930|-0.6991515343747522|19930|Alaska Airlines I...|\n",
      "|   19690|-2.1981308411214955|19690|Hawaiian Airlines...|\n",
      "+--------+-------------------+-----+--------------------+\n",
      "\n"
     ]
    }
   ],
   "source": [
    "spark.sql(\"SELECT * from delay_per_airline d join airlines a on a.code = d.airlines order by departure_delay DESC\").show()"
   ]
  },
  {
   "cell_type": "markdown",
   "metadata": {},
   "source": [
    "### Students"
   ]
  },
  {
   "cell_type": "code",
   "execution_count": 61,
   "metadata": {},
   "outputs": [],
   "source": [
    "from pyspark.sql import SparkSession\n",
    "import wget\n",
    "from pyspark.sql.functions import split"
   ]
  },
  {
   "cell_type": "code",
   "execution_count": 54,
   "metadata": {},
   "outputs": [],
   "source": [
    "spark = SparkSession.builder\\\n",
    "    .master('local[*]')\\\n",
    "    .getOrCreate()"
   ]
  },
  {
   "cell_type": "code",
   "execution_count": 55,
   "metadata": {},
   "outputs": [
    {
     "data": {
      "text/plain": [
       "'./students.txt'"
      ]
     },
     "execution_count": 55,
     "metadata": {},
     "output_type": "execute_result"
    }
   ],
   "source": [
    "wget.download('https://archive.org/download/datasets_getting_started_with_spark_two/students.txt','.') #58 b"
   ]
  },
  {
   "cell_type": "code",
   "execution_count": 71,
   "metadata": {},
   "outputs": [],
   "source": [
    "students = spark.read.text('students.txt')"
   ]
  },
  {
   "cell_type": "code",
   "execution_count": 58,
   "metadata": {},
   "outputs": [
    {
     "data": {
      "text/plain": [
       "[Row(value='Emily,44,55,78'),\n",
       " Row(value='Andy,47,34,89'),\n",
       " Row(value='Rick,55,78,55'),\n",
       " Row(value='Aaron,66,34,98')]"
      ]
     },
     "execution_count": 58,
     "metadata": {},
     "output_type": "execute_result"
    }
   ],
   "source": [
    "students.collect()"
   ]
  },
  {
   "cell_type": "code",
   "execution_count": 59,
   "metadata": {},
   "outputs": [
    {
     "name": "stdout",
     "output_type": "stream",
     "text": [
      "+--------------+\n",
      "|         value|\n",
      "+--------------+\n",
      "|Emily,44,55,78|\n",
      "| Andy,47,34,89|\n",
      "| Rick,55,78,55|\n",
      "|Aaron,66,34,98|\n",
      "+--------------+\n",
      "\n"
     ]
    }
   ],
   "source": [
    "students.show()"
   ]
  },
  {
   "cell_type": "code",
   "execution_count": 72,
   "metadata": {},
   "outputs": [
    {
     "name": "stdout",
     "output_type": "stream",
     "text": [
      "+-----+----+-------+-------+\n",
      "| name|math|english|science|\n",
      "+-----+----+-------+-------+\n",
      "|Emily|  44|     55|     78|\n",
      "| Andy|  47|     34|     89|\n",
      "| Rick|  55|     78|     55|\n",
      "|Aaron|  66|     34|     98|\n",
      "+-----+----+-------+-------+\n",
      "\n"
     ]
    }
   ],
   "source": [
    "students = (students\n",
    ".withColumn('name',split(col('value'),',').getItem(0))\n",
    ".withColumn('math',split(col('value'),',').getItem(1).cast('int'))\n",
    ".withColumn('english',split(col('value'),',').getItem(2).cast('int'))\n",
    ".withColumn('science',split(col('value'),',').getItem(3).cast('int'))\n",
    ".drop('value')\n",
    ")\n",
    "students.show()"
   ]
  },
  {
   "cell_type": "code",
   "execution_count": 73,
   "metadata": {},
   "outputs": [
    {
     "name": "stdout",
     "output_type": "stream",
     "text": [
      "root\n",
      " |-- name: string (nullable = true)\n",
      " |-- math: integer (nullable = true)\n",
      " |-- english: integer (nullable = true)\n",
      " |-- science: integer (nullable = true)\n",
      "\n"
     ]
    }
   ],
   "source": [
    "students.printSchema()"
   ]
  },
  {
   "cell_type": "markdown",
   "metadata": {},
   "source": [
    "### Produtos"
   ]
  },
  {
   "cell_type": "code",
   "execution_count": 93,
   "metadata": {},
   "outputs": [],
   "source": [
    "from pyspark.sql import SparkSession\n",
    "import wget\n",
    "from pyspark.sql.window import Window\n",
    "from pyspark.sql.functions import rank, max"
   ]
  },
  {
   "cell_type": "code",
   "execution_count": 77,
   "metadata": {},
   "outputs": [],
   "source": [
    "spark = SparkSession.builder\\\n",
    "    .master('local[*]')\\\n",
    "    .getOrCreate()"
   ]
  },
  {
   "cell_type": "code",
   "execution_count": 78,
   "metadata": {},
   "outputs": [
    {
     "data": {
      "text/plain": [
       "'./products.csv'"
      ]
     },
     "execution_count": 78,
     "metadata": {},
     "output_type": "execute_result"
    }
   ],
   "source": [
    "wget.download('https://archive.org/download/datasets_getting_started_with_spark_two/products.csv','.') #208 b"
   ]
  },
  {
   "cell_type": "code",
   "execution_count": 79,
   "metadata": {},
   "outputs": [],
   "source": [
    "products = spark.read.csv('products.csv',inferSchema=True,header=True)"
   ]
  },
  {
   "cell_type": "code",
   "execution_count": 80,
   "metadata": {},
   "outputs": [
    {
     "name": "stdout",
     "output_type": "stream",
     "text": [
      "+----------+--------+-----+\n",
      "|   product|category|price|\n",
      "+----------+--------+-----+\n",
      "|Samsung TX|  Tablet|  999|\n",
      "|Samsung JX|  Mobile|  799|\n",
      "|Redmi Note|  Mobile|  399|\n",
      "|        Mi|  Mobile|  299|\n",
      "|      iPad|  Tablet|  789|\n",
      "|    iPhone|  Mobile|  999|\n",
      "|  Micromax|  Mobile|  249|\n",
      "|    Lenovo|  Tablet|  499|\n",
      "|   OnePlus|  Mobile|  356|\n",
      "|        Xu|  Tablet|  267|\n",
      "+----------+--------+-----+\n",
      "\n"
     ]
    }
   ],
   "source": [
    "products.show()"
   ]
  },
  {
   "cell_type": "code",
   "execution_count": 90,
   "metadata": {},
   "outputs": [],
   "source": [
    "product_rank = ( products\n",
    ".select(col('product'),col('category'),col('price'))\n",
    ".withColumn('rank',rank().over(Window.partitionBy(products['category']).orderBy(products['price'].desc())))\n",
    ")"
   ]
  },
  {
   "cell_type": "code",
   "execution_count": 91,
   "metadata": {},
   "outputs": [
    {
     "name": "stdout",
     "output_type": "stream",
     "text": [
      "+----------+--------+-----+----+\n",
      "|   product|category|price|rank|\n",
      "+----------+--------+-----+----+\n",
      "|    iPhone|  Mobile|  999|   1|\n",
      "|Samsung JX|  Mobile|  799|   2|\n",
      "|Redmi Note|  Mobile|  399|   3|\n",
      "|   OnePlus|  Mobile|  356|   4|\n",
      "|        Mi|  Mobile|  299|   5|\n",
      "|  Micromax|  Mobile|  249|   6|\n",
      "|Samsung TX|  Tablet|  999|   1|\n",
      "|      iPad|  Tablet|  789|   2|\n",
      "|    Lenovo|  Tablet|  499|   3|\n",
      "|        Xu|  Tablet|  267|   4|\n",
      "+----------+--------+-----+----+\n",
      "\n"
     ]
    }
   ],
   "source": [
    "product_rank.show()"
   ]
  },
  {
   "cell_type": "code",
   "execution_count": 94,
   "metadata": {},
   "outputs": [],
   "source": [
    "product_max = ( products\n",
    ".select(col('product'),col('category'),col('price'))\n",
    ".withColumn('max',\n",
    "max(col('price'))\n",
    ".over(Window.partitionBy(products['category'])\n",
    ".orderBy(products['price'].desc()).rowsBetween(-1,0)\n",
    ")\n",
    ")\n",
    ")"
   ]
  },
  {
   "cell_type": "code",
   "execution_count": 95,
   "metadata": {},
   "outputs": [
    {
     "name": "stdout",
     "output_type": "stream",
     "text": [
      "+----------+--------+-----+---+\n",
      "|   product|category|price|max|\n",
      "+----------+--------+-----+---+\n",
      "|    iPhone|  Mobile|  999|999|\n",
      "|Samsung JX|  Mobile|  799|999|\n",
      "|Redmi Note|  Mobile|  399|799|\n",
      "|   OnePlus|  Mobile|  356|399|\n",
      "|        Mi|  Mobile|  299|356|\n",
      "|  Micromax|  Mobile|  249|299|\n",
      "|Samsung TX|  Tablet|  999|999|\n",
      "|      iPad|  Tablet|  789|999|\n",
      "|    Lenovo|  Tablet|  499|789|\n",
      "|        Xu|  Tablet|  267|499|\n",
      "+----------+--------+-----+---+\n",
      "\n"
     ]
    }
   ],
   "source": [
    "product_max.show()"
   ]
  },
  {
   "cell_type": "code",
   "execution_count": 99,
   "metadata": {},
   "outputs": [],
   "source": [
    "product_price_diff = ( products\n",
    ".select(col('product'),col('category'),col('price'))\n",
    ".withColumn('price_diff',\n",
    "max(col('price'))\n",
    ".over(Window.partitionBy(products['category'])\n",
    ".orderBy(products['price'].desc()).rangeBetween(-sys.maxsize, sys.maxsize)\n",
    ") - col('price')\n",
    ")\n",
    ")"
   ]
  },
  {
   "cell_type": "code",
   "execution_count": 100,
   "metadata": {},
   "outputs": [
    {
     "name": "stdout",
     "output_type": "stream",
     "text": [
      "+----------+--------+-----+----------+\n",
      "|   product|category|price|price_diff|\n",
      "+----------+--------+-----+----------+\n",
      "|    iPhone|  Mobile|  999|         0|\n",
      "|Samsung JX|  Mobile|  799|       200|\n",
      "|Redmi Note|  Mobile|  399|       600|\n",
      "|   OnePlus|  Mobile|  356|       643|\n",
      "|        Mi|  Mobile|  299|       700|\n",
      "|  Micromax|  Mobile|  249|       750|\n",
      "|Samsung TX|  Tablet|  999|         0|\n",
      "|      iPad|  Tablet|  789|       210|\n",
      "|    Lenovo|  Tablet|  499|       500|\n",
      "|        Xu|  Tablet|  267|       732|\n",
      "+----------+--------+-----+----------+\n",
      "\n"
     ]
    }
   ],
   "source": [
    "product_price_diff.show()"
   ]
  }
 ],
 "metadata": {
  "interpreter": {
   "hash": "916dbcbb3f70747c44a77c7bcd40155683ae19c65e1c03b4aa3499c5328201f1"
  },
  "kernelspec": {
   "display_name": "Python 3.8.10 64-bit",
   "language": "python",
   "name": "python3"
  },
  "language_info": {
   "codemirror_mode": {
    "name": "ipython",
    "version": 3
   },
   "file_extension": ".py",
   "mimetype": "text/x-python",
   "name": "python",
   "nbconvert_exporter": "python",
   "pygments_lexer": "ipython3",
   "version": "3.8.10"
  },
  "orig_nbformat": 4
 },
 "nbformat": 4,
 "nbformat_minor": 2
}
